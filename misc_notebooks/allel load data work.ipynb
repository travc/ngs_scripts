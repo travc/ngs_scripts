{
 "cells": [
  {
   "cell_type": "code",
   "execution_count": 2,
   "metadata": {
    "collapsed": false
   },
   "outputs": [
    {
     "ename": "TypeError",
     "evalue": "constructor returned NULL",
     "output_type": "error",
     "traceback": [
      "\u001b[1;31m---------------------------------------------------------------------------\u001b[0m",
      "\u001b[1;31mTypeError\u001b[0m                                 Traceback (most recent call last)",
      "\u001b[1;32m<ipython-input-2-97ec373eeff1>\u001b[0m in \u001b[0;36m<module>\u001b[1;34m()\u001b[0m\n\u001b[0;32m      5\u001b[0m \u001b[1;32mimport\u001b[0m \u001b[0mh5py\u001b[0m\u001b[1;33m\u001b[0m\u001b[0m\n\u001b[0;32m      6\u001b[0m \u001b[1;32mimport\u001b[0m \u001b[0mmatplotlib\u001b[0m \u001b[1;32mas\u001b[0m \u001b[0mmpl\u001b[0m\u001b[1;33m\u001b[0m\u001b[0m\n\u001b[1;32m----> 7\u001b[1;33m \u001b[1;32mimport\u001b[0m \u001b[0mmatplotlib\u001b[0m\u001b[1;33m.\u001b[0m\u001b[0mpyplot\u001b[0m \u001b[1;32mas\u001b[0m \u001b[0mplt\u001b[0m\u001b[1;33m\u001b[0m\u001b[0m\n\u001b[0m\u001b[0;32m      8\u001b[0m \u001b[1;31m#%matplotlib inline\u001b[0m\u001b[1;33m\u001b[0m\u001b[1;33m\u001b[0m\u001b[0m\n\u001b[0;32m      9\u001b[0m \u001b[1;32mimport\u001b[0m \u001b[0mseaborn\u001b[0m \u001b[1;32mas\u001b[0m \u001b[0msns\u001b[0m\u001b[1;33m\u001b[0m\u001b[0m\n",
      "\u001b[1;32m/usr/local/lib/python3.4/dist-packages/matplotlib/pyplot.py\u001b[0m in \u001b[0;36m<module>\u001b[1;34m()\u001b[0m\n\u001b[0;32m    112\u001b[0m \u001b[1;33m\u001b[0m\u001b[0m\n\u001b[0;32m    113\u001b[0m \u001b[1;32mfrom\u001b[0m \u001b[0mmatplotlib\u001b[0m\u001b[1;33m.\u001b[0m\u001b[0mbackends\u001b[0m \u001b[1;32mimport\u001b[0m \u001b[0mpylab_setup\u001b[0m\u001b[1;33m\u001b[0m\u001b[0m\n\u001b[1;32m--> 114\u001b[1;33m \u001b[0m_backend_mod\u001b[0m\u001b[1;33m,\u001b[0m \u001b[0mnew_figure_manager\u001b[0m\u001b[1;33m,\u001b[0m \u001b[0mdraw_if_interactive\u001b[0m\u001b[1;33m,\u001b[0m \u001b[0m_show\u001b[0m \u001b[1;33m=\u001b[0m \u001b[0mpylab_setup\u001b[0m\u001b[1;33m(\u001b[0m\u001b[1;33m)\u001b[0m\u001b[1;33m\u001b[0m\u001b[0m\n\u001b[0m\u001b[0;32m    115\u001b[0m \u001b[1;33m\u001b[0m\u001b[0m\n\u001b[0;32m    116\u001b[0m \u001b[0m_IP_REGISTERED\u001b[0m \u001b[1;33m=\u001b[0m \u001b[1;32mNone\u001b[0m\u001b[1;33m\u001b[0m\u001b[0m\n",
      "\u001b[1;32m/usr/local/lib/python3.4/dist-packages/matplotlib/backends/__init__.py\u001b[0m in \u001b[0;36mpylab_setup\u001b[1;34m()\u001b[0m\n\u001b[0;32m     30\u001b[0m     \u001b[1;31m# imports. 0 means only perform absolute imports.\u001b[0m\u001b[1;33m\u001b[0m\u001b[1;33m\u001b[0m\u001b[0m\n\u001b[0;32m     31\u001b[0m     backend_mod = __import__(backend_name,\n\u001b[1;32m---> 32\u001b[1;33m                              globals(),locals(),[backend_name],0)\n\u001b[0m\u001b[0;32m     33\u001b[0m \u001b[1;33m\u001b[0m\u001b[0m\n\u001b[0;32m     34\u001b[0m     \u001b[1;31m# Things we pull in from all backends\u001b[0m\u001b[1;33m\u001b[0m\u001b[1;33m\u001b[0m\u001b[0m\n",
      "\u001b[1;32m/usr/local/lib/python3.4/dist-packages/matplotlib/backends/backend_gtk3agg.py\u001b[0m in \u001b[0;36m<module>\u001b[1;34m()\u001b[0m\n\u001b[0;32m      9\u001b[0m \u001b[1;33m\u001b[0m\u001b[0m\n\u001b[0;32m     10\u001b[0m \u001b[1;32mfrom\u001b[0m \u001b[1;33m.\u001b[0m \u001b[1;32mimport\u001b[0m \u001b[0mbackend_agg\u001b[0m\u001b[1;33m\u001b[0m\u001b[0m\n\u001b[1;32m---> 11\u001b[1;33m \u001b[1;32mfrom\u001b[0m \u001b[1;33m.\u001b[0m \u001b[1;32mimport\u001b[0m \u001b[0mbackend_gtk3\u001b[0m\u001b[1;33m\u001b[0m\u001b[0m\n\u001b[0m\u001b[0;32m     12\u001b[0m \u001b[1;32mfrom\u001b[0m \u001b[1;33m.\u001b[0m\u001b[0mbackend_cairo\u001b[0m \u001b[1;32mimport\u001b[0m \u001b[0mcairo\u001b[0m\u001b[1;33m,\u001b[0m \u001b[0mHAS_CAIRO_CFFI\u001b[0m\u001b[1;33m\u001b[0m\u001b[0m\n\u001b[0;32m     13\u001b[0m \u001b[1;32mfrom\u001b[0m \u001b[0mmatplotlib\u001b[0m\u001b[1;33m.\u001b[0m\u001b[0mfigure\u001b[0m \u001b[1;32mimport\u001b[0m \u001b[0mFigure\u001b[0m\u001b[1;33m\u001b[0m\u001b[0m\n",
      "\u001b[1;32m/usr/local/lib/python3.4/dist-packages/matplotlib/backends/backend_gtk3.py\u001b[0m in \u001b[0;36m<module>\u001b[1;34m()\u001b[0m\n\u001b[0;32m     56\u001b[0m \u001b[1;33m\u001b[0m\u001b[0m\n\u001b[0;32m     57\u001b[0m cursord = {\n\u001b[1;32m---> 58\u001b[1;33m     \u001b[0mcursors\u001b[0m\u001b[1;33m.\u001b[0m\u001b[0mMOVE\u001b[0m          \u001b[1;33m:\u001b[0m \u001b[0mGdk\u001b[0m\u001b[1;33m.\u001b[0m\u001b[0mCursor\u001b[0m\u001b[1;33m.\u001b[0m\u001b[0mnew\u001b[0m\u001b[1;33m(\u001b[0m\u001b[0mGdk\u001b[0m\u001b[1;33m.\u001b[0m\u001b[0mCursorType\u001b[0m\u001b[1;33m.\u001b[0m\u001b[0mFLEUR\u001b[0m\u001b[1;33m)\u001b[0m\u001b[1;33m,\u001b[0m\u001b[1;33m\u001b[0m\u001b[0m\n\u001b[0m\u001b[0;32m     59\u001b[0m     \u001b[0mcursors\u001b[0m\u001b[1;33m.\u001b[0m\u001b[0mHAND\u001b[0m          \u001b[1;33m:\u001b[0m \u001b[0mGdk\u001b[0m\u001b[1;33m.\u001b[0m\u001b[0mCursor\u001b[0m\u001b[1;33m.\u001b[0m\u001b[0mnew\u001b[0m\u001b[1;33m(\u001b[0m\u001b[0mGdk\u001b[0m\u001b[1;33m.\u001b[0m\u001b[0mCursorType\u001b[0m\u001b[1;33m.\u001b[0m\u001b[0mHAND2\u001b[0m\u001b[1;33m)\u001b[0m\u001b[1;33m,\u001b[0m\u001b[1;33m\u001b[0m\u001b[0m\n\u001b[0;32m     60\u001b[0m     \u001b[0mcursors\u001b[0m\u001b[1;33m.\u001b[0m\u001b[0mPOINTER\u001b[0m       \u001b[1;33m:\u001b[0m \u001b[0mGdk\u001b[0m\u001b[1;33m.\u001b[0m\u001b[0mCursor\u001b[0m\u001b[1;33m.\u001b[0m\u001b[0mnew\u001b[0m\u001b[1;33m(\u001b[0m\u001b[0mGdk\u001b[0m\u001b[1;33m.\u001b[0m\u001b[0mCursorType\u001b[0m\u001b[1;33m.\u001b[0m\u001b[0mLEFT_PTR\u001b[0m\u001b[1;33m)\u001b[0m\u001b[1;33m,\u001b[0m\u001b[1;33m\u001b[0m\u001b[0m\n",
      "\u001b[1;31mTypeError\u001b[0m: constructor returned NULL"
     ]
    }
   ],
   "source": [
    "import sys\n",
    "import os\n",
    "import random\n",
    "import numpy as np\n",
    "import h5py\n",
    "import matplotlib as mpl\n",
    "import matplotlib.pyplot as plt\n",
    "#%matplotlib inline\n",
    "import seaborn as sns\n",
    "sns.set_style('white')\n",
    "sns.set_style('ticks')\n",
    "import bcolz\n",
    "import pandas\n",
    "import allel; print('scikit-allel', allel.__version__)\n",
    "#%reload_ext memory_profiler\n",
    "from collections import OrderedDict\n",
    "import subprocess"
   ]
  },
  {
   "cell_type": "code",
   "execution_count": 152,
   "metadata": {
    "collapsed": false
   },
   "outputs": [],
   "source": [
    "callset_fn = '/mnt/popi/home/travc/proj/GenomeOceansIslands/calling/OI-1_var_pfilt.h5'\n",
    "meta_fn = '/mnt/popi/home/travc/proj/GenomeOceansIslands/sample_info.csv'\n",
    "\n",
    "ranges = ['2L']#:1-2e6', '3L:5e6-6e6']\n",
    "\n",
    "# genotpye filtering\n",
    "MIN_FMTDP = 2 # genotypes with less FMT:DP become uncalled\n",
    "\n",
    "# locus filtering\n",
    "FILTER_SNP = True\n",
    "FILTER_BIALLELIC = True\n",
    "MAX_MISSING = 10 # maximum allowed number of uncalled genotypes (None to disable)\n",
    "\n",
    "\n",
    "accessibility_fn = '/data/home/travc/Ag1000g/phase1/AR3/accessibility/accessibility.h5'\n",
    "INVERSION_GFF_FN = '/data/archive/reference/anno/AgamP3_travc_misc.gff'"
   ]
  },
  {
   "cell_type": "code",
   "execution_count": null,
   "metadata": {
    "collapsed": true
   },
   "outputs": [],
   "source": []
  },
  {
   "cell_type": "code",
   "execution_count": 3,
   "metadata": {
    "collapsed": true
   },
   "outputs": [],
   "source": [
    "def str2int(s):\n",
    "    \"\"\"return the int value of string, handles strings like 1e6 too\"\"\"\n",
    "    rv = None\n",
    "    try:\n",
    "        rv = int(s)\n",
    "    except ValueError:\n",
    "        rv = int(float(s))\n",
    "    return rv\n",
    "\n",
    "def str2range(s):\n",
    "    chrom = None\n",
    "    start = 1\n",
    "    stop = None\n",
    "    tmp = s.split(':')\n",
    "    chrom = tmp[0]\n",
    "    if len(tmp)>1:\n",
    "        if '-' in tmp[1]:\n",
    "            tmp = tmp[1].split('-')\n",
    "        else:\n",
    "            tmp = tmp[1].split('..')\n",
    "        start = str2int(tmp[0])\n",
    "        if len(tmp)>1:\n",
    "            stop = str2int(tmp[1])\n",
    "    return (chrom, start, stop)\n",
    "\n",
    "def test_str2range1():\n",
    "    assert str2range('2L:1-1e6') == ('2L', 1, 1000000)\n",
    "def test_str2range2():\n",
    "    assert str2range('2L:1e6') == ('2L', 1000000, None)\n",
    "def test_str2range3():\n",
    "    assert str2range('2L') == ('2L', 1, None)\n",
    "def test_str2range4():\n",
    "    # very long ints should be preserved perfectly\n",
    "    assert str2range('2L:1234567891011121314151617') == ('2L', 1234567891011121314151617, None)\n",
    "\n",
    "# Run tests (@TCC remove for script)\n",
    "test_str2range1()\n",
    "test_str2range2()\n",
    "test_str2range3()\n",
    "test_str2range4()"
   ]
  },
  {
   "cell_type": "code",
   "execution_count": 4,
   "metadata": {
    "collapsed": false
   },
   "outputs": [],
   "source": [
    "def sampleIdxsByGroups(meta_df, *group_strings, group_field='group', idx_field='idx'):\n",
    "    return meta_df[[ _ in group_strings for _ in meta_df[group_field] ]][idx_field] # for in list of strings"
   ]
  },
  {
   "cell_type": "code",
   "execution_count": null,
   "metadata": {
    "collapsed": true
   },
   "outputs": [],
   "source": []
  },
  {
   "cell_type": "code",
   "execution_count": null,
   "metadata": {
    "collapsed": true
   },
   "outputs": [],
   "source": []
  },
  {
   "cell_type": "code",
   "execution_count": 5,
   "metadata": {
    "collapsed": false
   },
   "outputs": [],
   "source": [
    "# Load callset file (doesn't actually load the data)\n",
    "callset = h5py.File(callset_fn, mode='r')\n",
    "all_sample_ids = [ _.decode('utf-8') for _ in callset[list(callset.keys())[0]]['samples'] ]"
   ]
  },
  {
   "cell_type": "code",
   "execution_count": null,
   "metadata": {
    "collapsed": true
   },
   "outputs": [],
   "source": []
  },
  {
   "cell_type": "code",
   "execution_count": null,
   "metadata": {
    "collapsed": true
   },
   "outputs": [],
   "source": []
  },
  {
   "cell_type": "code",
   "execution_count": 6,
   "metadata": {
    "collapsed": false,
    "scrolled": false
   },
   "outputs": [
    {
     "data": {
      "text/html": [
       "<div style=\"max-height:1000px;max-width:1500px;overflow:auto;\">\n",
       "<table border=\"1\" class=\"dataframe\">\n",
       "  <thead>\n",
       "    <tr style=\"text-align: right;\">\n",
       "      <th></th>\n",
       "      <th>site</th>\n",
       "      <th>country</th>\n",
       "      <th>group</th>\n",
       "      <th>28S</th>\n",
       "      <th>kdr</th>\n",
       "      <th>ChrForm2</th>\n",
       "      <th>Total reads (Mb)</th>\n",
       "      <th>2L cov (X)</th>\n",
       "      <th>01039-358</th>\n",
       "      <th>01061-057</th>\n",
       "      <th>01061-488</th>\n",
       "      <th>01070-211</th>\n",
       "      <th>01073-073</th>\n",
       "      <th>01073-213</th>\n",
       "      <th>01076-129</th>\n",
       "      <th>04679-157</th>\n",
       "      <th>04691-107</th>\n",
       "      <th>04707-118</th>\n",
       "      <th>04707-247</th>\n",
       "      <th>04707-337</th>\n",
       "      <th></th>\n",
       "    </tr>\n",
       "    <tr>\n",
       "      <th>sample</th>\n",
       "      <th></th>\n",
       "      <th></th>\n",
       "      <th></th>\n",
       "      <th></th>\n",
       "      <th></th>\n",
       "      <th></th>\n",
       "      <th></th>\n",
       "      <th></th>\n",
       "      <th></th>\n",
       "      <th></th>\n",
       "      <th></th>\n",
       "      <th></th>\n",
       "      <th></th>\n",
       "      <th></th>\n",
       "      <th></th>\n",
       "      <th></th>\n",
       "      <th></th>\n",
       "      <th></th>\n",
       "      <th></th>\n",
       "      <th></th>\n",
       "    </tr>\n",
       "  </thead>\n",
       "  <tbody>\n",
       "    <tr>\n",
       "      <th>05TAKU0005</th>\n",
       "      <td>      Takouti</td>\n",
       "      <td>     Mali</td>\n",
       "      <td>        allopatric Acol</td>\n",
       "      <td>           M</td>\n",
       "      <td> NaN</td>\n",
       "      <td>    Mop</td>\n",
       "      <td>  77.92</td>\n",
       "      <td>  8.99</td>\n",
       "      <td> CC</td>\n",
       "      <td> TT</td>\n",
       "      <td>  AA</td>\n",
       "      <td>  AA</td>\n",
       "      <td>  GG</td>\n",
       "      <td> GG</td>\n",
       "      <td>  TT</td>\n",
       "      <td> CC</td>\n",
       "      <td> AA</td>\n",
       "      <td> CC</td>\n",
       "      <td>  AA</td>\n",
       "      <td>  CC</td>\n",
       "      <td>...</td>\n",
       "    </tr>\n",
       "    <tr>\n",
       "      <th>05TAKU0007</th>\n",
       "      <td>      Takouti</td>\n",
       "      <td>     Mali</td>\n",
       "      <td>        allopatric Acol</td>\n",
       "      <td>           M</td>\n",
       "      <td> NaN</td>\n",
       "      <td>    Mop</td>\n",
       "      <td> 110.37</td>\n",
       "      <td> 13.11</td>\n",
       "      <td> CC</td>\n",
       "      <td> TT</td>\n",
       "      <td>  AA</td>\n",
       "      <td>  AA</td>\n",
       "      <td>  GG</td>\n",
       "      <td> GG</td>\n",
       "      <td>  TT</td>\n",
       "      <td> CC</td>\n",
       "      <td> AA</td>\n",
       "      <td> CC</td>\n",
       "      <td>  AA</td>\n",
       "      <td>  CC</td>\n",
       "      <td>...</td>\n",
       "    </tr>\n",
       "    <tr>\n",
       "      <th>06TISS0021</th>\n",
       "      <td>      Tissana</td>\n",
       "      <td>     Mali</td>\n",
       "      <td>        allopatric Acol</td>\n",
       "      <td>           M</td>\n",
       "      <td> +;+</td>\n",
       "      <td>    Mop</td>\n",
       "      <td>  52.58</td>\n",
       "      <td> 20.26</td>\n",
       "      <td> CC</td>\n",
       "      <td> TT</td>\n",
       "      <td>  AA</td>\n",
       "      <td>  AA</td>\n",
       "      <td>  GG</td>\n",
       "      <td> GG</td>\n",
       "      <td>  TT</td>\n",
       "      <td> CC</td>\n",
       "      <td> AA</td>\n",
       "      <td> CC</td>\n",
       "      <td>  AA</td>\n",
       "      <td>  CC</td>\n",
       "      <td>...</td>\n",
       "    </tr>\n",
       "    <tr>\n",
       "      <th>06TISS0022</th>\n",
       "      <td>      Tissana</td>\n",
       "      <td>     Mali</td>\n",
       "      <td>        allopatric Acol</td>\n",
       "      <td>           M</td>\n",
       "      <td> +;+</td>\n",
       "      <td>    Mop</td>\n",
       "      <td>  21.07</td>\n",
       "      <td>  8.40</td>\n",
       "      <td> CC</td>\n",
       "      <td> TT</td>\n",
       "      <td>  AA</td>\n",
       "      <td>  AA</td>\n",
       "      <td>  GG</td>\n",
       "      <td> GG</td>\n",
       "      <td>  TT</td>\n",
       "      <td> CC</td>\n",
       "      <td> AA</td>\n",
       "      <td> CC</td>\n",
       "      <td>  AA</td>\n",
       "      <td>  CC</td>\n",
       "      <td>...</td>\n",
       "    </tr>\n",
       "    <tr>\n",
       "      <th>06TISS0023</th>\n",
       "      <td>      Tissana</td>\n",
       "      <td>     Mali</td>\n",
       "      <td>        allopatric Acol</td>\n",
       "      <td>           M</td>\n",
       "      <td> +;+</td>\n",
       "      <td>    Mop</td>\n",
       "      <td>  28.42</td>\n",
       "      <td> 10.44</td>\n",
       "      <td> CC</td>\n",
       "      <td> TT</td>\n",
       "      <td>  AA</td>\n",
       "      <td>  AA</td>\n",
       "      <td>  GG</td>\n",
       "      <td> GG</td>\n",
       "      <td>  TT</td>\n",
       "      <td> CC</td>\n",
       "      <td> AA</td>\n",
       "      <td> CC</td>\n",
       "      <td>  AA</td>\n",
       "      <td>  CC</td>\n",
       "      <td>...</td>\n",
       "    </tr>\n",
       "    <tr>\n",
       "      <th>06TISS0024</th>\n",
       "      <td>      Tissana</td>\n",
       "      <td>     Mali</td>\n",
       "      <td>        allopatric Acol</td>\n",
       "      <td>           M</td>\n",
       "      <td> +;+</td>\n",
       "      <td>    Mop</td>\n",
       "      <td>  28.92</td>\n",
       "      <td> 10.72</td>\n",
       "      <td> CC</td>\n",
       "      <td> TT</td>\n",
       "      <td>  AA</td>\n",
       "      <td>  AA</td>\n",
       "      <td>  GG</td>\n",
       "      <td> GG</td>\n",
       "      <td>  TT</td>\n",
       "      <td> CC</td>\n",
       "      <td> AA</td>\n",
       "      <td> CC</td>\n",
       "      <td>  AA</td>\n",
       "      <td>  CC</td>\n",
       "      <td>...</td>\n",
       "    </tr>\n",
       "    <tr>\n",
       "      <th>06TISS0026</th>\n",
       "      <td>      Tissana</td>\n",
       "      <td>     Mali</td>\n",
       "      <td>        allopatric Acol</td>\n",
       "      <td>           M</td>\n",
       "      <td> +;+</td>\n",
       "      <td>    Mop</td>\n",
       "      <td>  25.86</td>\n",
       "      <td>  9.78</td>\n",
       "      <td> CC</td>\n",
       "      <td> TT</td>\n",
       "      <td>  AA</td>\n",
       "      <td>  AA</td>\n",
       "      <td>  GG</td>\n",
       "      <td> GG</td>\n",
       "      <td>  TT</td>\n",
       "      <td> CC</td>\n",
       "      <td> AA</td>\n",
       "      <td> CC</td>\n",
       "      <td>  AA</td>\n",
       "      <td>  CC</td>\n",
       "      <td>...</td>\n",
       "    </tr>\n",
       "    <tr>\n",
       "      <th>06FOUM0032</th>\n",
       "      <td>      Foumbot</td>\n",
       "      <td> Cameroon</td>\n",
       "      <td>        allopatric Agam</td>\n",
       "      <td>           S</td>\n",
       "      <td> NaN</td>\n",
       "      <td>    NaN</td>\n",
       "      <td>  21.87</td>\n",
       "      <td>  8.55</td>\n",
       "      <td> AA</td>\n",
       "      <td> CC</td>\n",
       "      <td>  TT</td>\n",
       "      <td>  GG</td>\n",
       "      <td>  TT</td>\n",
       "      <td> AA</td>\n",
       "      <td>  GG</td>\n",
       "      <td> TT</td>\n",
       "      <td> GG</td>\n",
       "      <td> TT</td>\n",
       "      <td>  GG</td>\n",
       "      <td>  TT</td>\n",
       "      <td>...</td>\n",
       "    </tr>\n",
       "    <tr>\n",
       "      <th>06FOUM0033</th>\n",
       "      <td>      Foumbot</td>\n",
       "      <td> Cameroon</td>\n",
       "      <td>        allopatric Agam</td>\n",
       "      <td>           S</td>\n",
       "      <td> NaN</td>\n",
       "      <td>    NaN</td>\n",
       "      <td>  22.62</td>\n",
       "      <td>  7.83</td>\n",
       "      <td> AA</td>\n",
       "      <td> CC</td>\n",
       "      <td>  TT</td>\n",
       "      <td>  GG</td>\n",
       "      <td>  TT</td>\n",
       "      <td> AA</td>\n",
       "      <td>  GG</td>\n",
       "      <td> TT</td>\n",
       "      <td> GG</td>\n",
       "      <td> TT</td>\n",
       "      <td>  GG</td>\n",
       "      <td>  TT</td>\n",
       "      <td>...</td>\n",
       "    </tr>\n",
       "    <tr>\n",
       "      <th>06FOUM0035</th>\n",
       "      <td>      Foumbot</td>\n",
       "      <td> Cameroon</td>\n",
       "      <td>        allopatric Agam</td>\n",
       "      <td>           S</td>\n",
       "      <td> NaN</td>\n",
       "      <td>    NaN</td>\n",
       "      <td>  93.68</td>\n",
       "      <td> 39.02</td>\n",
       "      <td> AA</td>\n",
       "      <td> CC</td>\n",
       "      <td>  TT</td>\n",
       "      <td>  GG</td>\n",
       "      <td>  TT</td>\n",
       "      <td> AA</td>\n",
       "      <td>  GG</td>\n",
       "      <td> TT</td>\n",
       "      <td> GG</td>\n",
       "      <td> TT</td>\n",
       "      <td>  GG</td>\n",
       "      <td>  TT</td>\n",
       "      <td>...</td>\n",
       "    </tr>\n",
       "    <tr>\n",
       "      <th>06FOUM0036</th>\n",
       "      <td>      Foumbot</td>\n",
       "      <td> Cameroon</td>\n",
       "      <td>        allopatric Agam</td>\n",
       "      <td>           S</td>\n",
       "      <td> NaN</td>\n",
       "      <td>    NaN</td>\n",
       "      <td>  31.60</td>\n",
       "      <td> 12.50</td>\n",
       "      <td> AA</td>\n",
       "      <td> CC</td>\n",
       "      <td>  TT</td>\n",
       "      <td>  GG</td>\n",
       "      <td>  TT</td>\n",
       "      <td> AA</td>\n",
       "      <td>  GG</td>\n",
       "      <td> TT</td>\n",
       "      <td> GG</td>\n",
       "      <td> TT</td>\n",
       "      <td>  GG</td>\n",
       "      <td>  TT</td>\n",
       "      <td>...</td>\n",
       "    </tr>\n",
       "    <tr>\n",
       "      <th>06FOUM0037</th>\n",
       "      <td>      Foumbot</td>\n",
       "      <td> Cameroon</td>\n",
       "      <td>        allopatric Agam</td>\n",
       "      <td>           S</td>\n",
       "      <td> NaN</td>\n",
       "      <td>    NaN</td>\n",
       "      <td>  20.35</td>\n",
       "      <td>  7.56</td>\n",
       "      <td> AA</td>\n",
       "      <td> CC</td>\n",
       "      <td>  TT</td>\n",
       "      <td>  GG</td>\n",
       "      <td>  TT</td>\n",
       "      <td> AA</td>\n",
       "      <td>  GG</td>\n",
       "      <td> TT</td>\n",
       "      <td> GG</td>\n",
       "      <td> TT</td>\n",
       "      <td>  GG</td>\n",
       "      <td>  TT</td>\n",
       "      <td>...</td>\n",
       "    </tr>\n",
       "    <tr>\n",
       "      <th>06SELI0045</th>\n",
       "      <td>   Selinkenyi</td>\n",
       "      <td>     Mali</td>\n",
       "      <td> backcross Acol - early</td>\n",
       "      <td> M-backcross</td>\n",
       "      <td> +;+</td>\n",
       "      <td> hybrid</td>\n",
       "      <td>  17.18</td>\n",
       "      <td>  6.41</td>\n",
       "      <td> AC</td>\n",
       "      <td> CT</td>\n",
       "      <td>  AA</td>\n",
       "      <td>  GA</td>\n",
       "      <td>  TG</td>\n",
       "      <td> AG</td>\n",
       "      <td>  GT</td>\n",
       "      <td> TC</td>\n",
       "      <td> AA</td>\n",
       "      <td> CC</td>\n",
       "      <td>  GA</td>\n",
       "      <td>  TC</td>\n",
       "      <td>...</td>\n",
       "    </tr>\n",
       "    <tr>\n",
       "      <th>06SELI0090</th>\n",
       "      <td>   Selinkenyi</td>\n",
       "      <td>     Mali</td>\n",
       "      <td> backcross Acol - early</td>\n",
       "      <td>          F1</td>\n",
       "      <td> +;+</td>\n",
       "      <td> hybrid</td>\n",
       "      <td>  31.15</td>\n",
       "      <td> 11.67</td>\n",
       "      <td> AC</td>\n",
       "      <td> CT</td>\n",
       "      <td>  AA</td>\n",
       "      <td>  GA</td>\n",
       "      <td>  TG</td>\n",
       "      <td> AG</td>\n",
       "      <td>  GT</td>\n",
       "      <td> TC</td>\n",
       "      <td> GA</td>\n",
       "      <td> CC</td>\n",
       "      <td>  GA</td>\n",
       "      <td>  CC</td>\n",
       "      <td>...</td>\n",
       "    </tr>\n",
       "    <tr>\n",
       "      <th>06SELI0110</th>\n",
       "      <td>   Selinkenyi</td>\n",
       "      <td>     Mali</td>\n",
       "      <td> backcross Acol - early</td>\n",
       "      <td> M-backcross</td>\n",
       "      <td> W;+</td>\n",
       "      <td>    Mop</td>\n",
       "      <td>  27.78</td>\n",
       "      <td> 10.23</td>\n",
       "      <td> CC</td>\n",
       "      <td> TT</td>\n",
       "      <td>  AA</td>\n",
       "      <td>  AA</td>\n",
       "      <td>  GG</td>\n",
       "      <td> GG</td>\n",
       "      <td>  TT</td>\n",
       "      <td> TC</td>\n",
       "      <td> GA</td>\n",
       "      <td> TC</td>\n",
       "      <td>  GA</td>\n",
       "      <td>  TC</td>\n",
       "      <td>...</td>\n",
       "    </tr>\n",
       "    <tr>\n",
       "      <th>06SELI0120</th>\n",
       "      <td>   Selinkenyi</td>\n",
       "      <td>     Mali</td>\n",
       "      <td> backcross Acol - early</td>\n",
       "      <td> M-backcross</td>\n",
       "      <td> +;+</td>\n",
       "      <td>    Mop</td>\n",
       "      <td>  23.06</td>\n",
       "      <td>  7.86</td>\n",
       "      <td> CC</td>\n",
       "      <td> TT</td>\n",
       "      <td>  AA</td>\n",
       "      <td>  AA</td>\n",
       "      <td>  TG</td>\n",
       "      <td> GG</td>\n",
       "      <td>  TT</td>\n",
       "      <td> TC</td>\n",
       "      <td> GA</td>\n",
       "      <td> CC</td>\n",
       "      <td>  AA</td>\n",
       "      <td>  CC</td>\n",
       "      <td>...</td>\n",
       "    </tr>\n",
       "    <tr>\n",
       "      <th>06SELI0141</th>\n",
       "      <td>   Selinkenyi</td>\n",
       "      <td>     Mali</td>\n",
       "      <td> backcross Acol - early</td>\n",
       "      <td> M-backcross</td>\n",
       "      <td> +;+</td>\n",
       "      <td> hybrid</td>\n",
       "      <td> 145.67</td>\n",
       "      <td> 17.99</td>\n",
       "      <td> CC</td>\n",
       "      <td> TT</td>\n",
       "      <td>  AA</td>\n",
       "      <td>  GA</td>\n",
       "      <td>  TG</td>\n",
       "      <td> AG</td>\n",
       "      <td>  GT</td>\n",
       "      <td> TC</td>\n",
       "      <td> GA</td>\n",
       "      <td> CC</td>\n",
       "      <td>  GA</td>\n",
       "      <td>  CC</td>\n",
       "      <td>...</td>\n",
       "    </tr>\n",
       "    <tr>\n",
       "      <th>10SELI_O124</th>\n",
       "      <td>   Selinkenyi</td>\n",
       "      <td>     Mali</td>\n",
       "      <td>  backcross Acol - late</td>\n",
       "      <td> M-backcross</td>\n",
       "      <td> NaN</td>\n",
       "      <td>    NaN</td>\n",
       "      <td>  18.85</td>\n",
       "      <td>  8.66</td>\n",
       "      <td> CC</td>\n",
       "      <td> TT</td>\n",
       "      <td>  AA</td>\n",
       "      <td>  AA</td>\n",
       "      <td>  GG</td>\n",
       "      <td> GG</td>\n",
       "      <td>  TT</td>\n",
       "      <td> TC</td>\n",
       "      <td> GA</td>\n",
       "      <td> TC</td>\n",
       "      <td>  GA</td>\n",
       "      <td>  TC</td>\n",
       "      <td>...</td>\n",
       "    </tr>\n",
       "    <tr>\n",
       "      <th>10SELI_O125</th>\n",
       "      <td>   Selinkenyi</td>\n",
       "      <td>     Mali</td>\n",
       "      <td>  backcross Acol - late</td>\n",
       "      <td> M-backcross</td>\n",
       "      <td> NaN</td>\n",
       "      <td>    NaN</td>\n",
       "      <td>  13.03</td>\n",
       "      <td>  5.80</td>\n",
       "      <td> CC</td>\n",
       "      <td> TT</td>\n",
       "      <td>  AA</td>\n",
       "      <td>  AA</td>\n",
       "      <td>  GG</td>\n",
       "      <td> GG</td>\n",
       "      <td>  TT</td>\n",
       "      <td> CC</td>\n",
       "      <td> AA</td>\n",
       "      <td> TC</td>\n",
       "      <td>  GA</td>\n",
       "      <td>  TC</td>\n",
       "      <td>...</td>\n",
       "    </tr>\n",
       "    <tr>\n",
       "      <th>10SELI_O132</th>\n",
       "      <td>   Selinkenyi</td>\n",
       "      <td>     Mali</td>\n",
       "      <td>  backcross Acol - late</td>\n",
       "      <td> M-backcross</td>\n",
       "      <td> NaN</td>\n",
       "      <td>    NaN</td>\n",
       "      <td>  17.57</td>\n",
       "      <td>  5.40</td>\n",
       "      <td> CC</td>\n",
       "      <td> TT</td>\n",
       "      <td>  AA</td>\n",
       "      <td>  AA</td>\n",
       "      <td>  GG</td>\n",
       "      <td> GG</td>\n",
       "      <td>  TT</td>\n",
       "      <td> TT</td>\n",
       "      <td> GG</td>\n",
       "      <td> TT</td>\n",
       "      <td>  GG</td>\n",
       "      <td>  TT</td>\n",
       "      <td>...</td>\n",
       "    </tr>\n",
       "    <tr>\n",
       "      <th>10SELI_O134</th>\n",
       "      <td>   Selinkenyi</td>\n",
       "      <td>     Mali</td>\n",
       "      <td>  backcross Acol - late</td>\n",
       "      <td> M-backcross</td>\n",
       "      <td> NaN</td>\n",
       "      <td>    NaN</td>\n",
       "      <td>  16.99</td>\n",
       "      <td>  7.73</td>\n",
       "      <td> CC</td>\n",
       "      <td> TT</td>\n",
       "      <td>  AA</td>\n",
       "      <td>  AA</td>\n",
       "      <td>  GG</td>\n",
       "      <td> GG</td>\n",
       "      <td>  TT</td>\n",
       "      <td> CC</td>\n",
       "      <td> AA</td>\n",
       "      <td> TC</td>\n",
       "      <td>  GA</td>\n",
       "      <td>  TC</td>\n",
       "      <td>...</td>\n",
       "    </tr>\n",
       "    <tr>\n",
       "      <th>10SELI_O160</th>\n",
       "      <td>   Selinkenyi</td>\n",
       "      <td>     Mali</td>\n",
       "      <td>  backcross Acol - late</td>\n",
       "      <td> M-backcross</td>\n",
       "      <td> NaN</td>\n",
       "      <td>    NaN</td>\n",
       "      <td>  22.03</td>\n",
       "      <td>  9.70</td>\n",
       "      <td> CC</td>\n",
       "      <td> TT</td>\n",
       "      <td> NaN</td>\n",
       "      <td> NaN</td>\n",
       "      <td> NaN</td>\n",
       "      <td> GG</td>\n",
       "      <td> NaN</td>\n",
       "      <td> TC</td>\n",
       "      <td> GA</td>\n",
       "      <td> TC</td>\n",
       "      <td> NaN</td>\n",
       "      <td> NaN</td>\n",
       "      <td>...</td>\n",
       "    </tr>\n",
       "    <tr>\n",
       "      <th>10SELI_O171</th>\n",
       "      <td>   Selinkenyi</td>\n",
       "      <td>     Mali</td>\n",
       "      <td>  backcross Acol - late</td>\n",
       "      <td> M-backcross</td>\n",
       "      <td> NaN</td>\n",
       "      <td>    NaN</td>\n",
       "      <td>   9.33</td>\n",
       "      <td>  4.22</td>\n",
       "      <td> CC</td>\n",
       "      <td> TT</td>\n",
       "      <td> NaN</td>\n",
       "      <td> NaN</td>\n",
       "      <td> NaN</td>\n",
       "      <td> GG</td>\n",
       "      <td> NaN</td>\n",
       "      <td> CC</td>\n",
       "      <td> GA</td>\n",
       "      <td> TC</td>\n",
       "      <td> NaN</td>\n",
       "      <td> NaN</td>\n",
       "      <td>...</td>\n",
       "    </tr>\n",
       "    <tr>\n",
       "      <th>10SELI_O190</th>\n",
       "      <td>   Selinkenyi</td>\n",
       "      <td>     Mali</td>\n",
       "      <td>  backcross Acol - late</td>\n",
       "      <td>           M</td>\n",
       "      <td> NaN</td>\n",
       "      <td>    NaN</td>\n",
       "      <td>  50.55</td>\n",
       "      <td> 14.91</td>\n",
       "      <td> CC</td>\n",
       "      <td> TT</td>\n",
       "      <td> NaN</td>\n",
       "      <td> NaN</td>\n",
       "      <td> NaN</td>\n",
       "      <td> GG</td>\n",
       "      <td> NaN</td>\n",
       "      <td> TC</td>\n",
       "      <td> GA</td>\n",
       "      <td> CC</td>\n",
       "      <td> NaN</td>\n",
       "      <td> NaN</td>\n",
       "      <td>...</td>\n",
       "    </tr>\n",
       "    <tr>\n",
       "      <th>12SELI0002</th>\n",
       "      <td>   Selinkenyi</td>\n",
       "      <td>     Mali</td>\n",
       "      <td>  backcross Acol - late</td>\n",
       "      <td> M-backcross</td>\n",
       "      <td> W;W</td>\n",
       "      <td>    Mop</td>\n",
       "      <td>  19.39</td>\n",
       "      <td>  4.66</td>\n",
       "      <td> CC</td>\n",
       "      <td> TT</td>\n",
       "      <td>  AA</td>\n",
       "      <td>  AA</td>\n",
       "      <td>  GG</td>\n",
       "      <td> GG</td>\n",
       "      <td>  TT</td>\n",
       "      <td> TT</td>\n",
       "      <td> GG</td>\n",
       "      <td> TT</td>\n",
       "      <td>  GG</td>\n",
       "      <td>  TT</td>\n",
       "      <td>...</td>\n",
       "    </tr>\n",
       "    <tr>\n",
       "      <th>12SELI0003</th>\n",
       "      <td>   Selinkenyi</td>\n",
       "      <td>     Mali</td>\n",
       "      <td>  backcross Acol - late</td>\n",
       "      <td> M-backcross</td>\n",
       "      <td> W;W</td>\n",
       "      <td>    Mop</td>\n",
       "      <td>  22.17</td>\n",
       "      <td>  5.97</td>\n",
       "      <td> CC</td>\n",
       "      <td> TT</td>\n",
       "      <td>  AA</td>\n",
       "      <td>  AA</td>\n",
       "      <td>  GG</td>\n",
       "      <td> GG</td>\n",
       "      <td>  TT</td>\n",
       "      <td> TT</td>\n",
       "      <td> GG</td>\n",
       "      <td> TT</td>\n",
       "      <td>  GG</td>\n",
       "      <td>  TT</td>\n",
       "      <td>...</td>\n",
       "    </tr>\n",
       "    <tr>\n",
       "      <th>12SELI0006</th>\n",
       "      <td>   Selinkenyi</td>\n",
       "      <td>     Mali</td>\n",
       "      <td>  backcross Acol - late</td>\n",
       "      <td> M-backcross</td>\n",
       "      <td> W;+</td>\n",
       "      <td>    Mop</td>\n",
       "      <td>  19.85</td>\n",
       "      <td>  4.41</td>\n",
       "      <td> CC</td>\n",
       "      <td> TT</td>\n",
       "      <td>  AA</td>\n",
       "      <td>  AA</td>\n",
       "      <td>  GG</td>\n",
       "      <td> GG</td>\n",
       "      <td>  TT</td>\n",
       "      <td> TC</td>\n",
       "      <td> GA</td>\n",
       "      <td> TC</td>\n",
       "      <td>  GA</td>\n",
       "      <td>  TC</td>\n",
       "      <td>...</td>\n",
       "    </tr>\n",
       "    <tr>\n",
       "      <th>12SELI0009</th>\n",
       "      <td>   Selinkenyi</td>\n",
       "      <td>     Mali</td>\n",
       "      <td>  backcross Acol - late</td>\n",
       "      <td> M-backcross</td>\n",
       "      <td> W;+</td>\n",
       "      <td>    Mop</td>\n",
       "      <td>  33.43</td>\n",
       "      <td>  8.61</td>\n",
       "      <td> CC</td>\n",
       "      <td> TT</td>\n",
       "      <td>  AA</td>\n",
       "      <td>  AA</td>\n",
       "      <td>  GG</td>\n",
       "      <td> GG</td>\n",
       "      <td>  TT</td>\n",
       "      <td> TC</td>\n",
       "      <td> GA</td>\n",
       "      <td> TC</td>\n",
       "      <td>  GA</td>\n",
       "      <td>  TC</td>\n",
       "      <td>...</td>\n",
       "    </tr>\n",
       "    <tr>\n",
       "      <th>12SELI0012</th>\n",
       "      <td>   Selinkenyi</td>\n",
       "      <td>     Mali</td>\n",
       "      <td>  backcross Acol - late</td>\n",
       "      <td> M-backcross</td>\n",
       "      <td> W;W</td>\n",
       "      <td>    Mop</td>\n",
       "      <td>   7.62</td>\n",
       "      <td>  3.97</td>\n",
       "      <td> CC</td>\n",
       "      <td> TT</td>\n",
       "      <td>  AA</td>\n",
       "      <td>  AA</td>\n",
       "      <td>  GG</td>\n",
       "      <td> GG</td>\n",
       "      <td>  TT</td>\n",
       "      <td> TC</td>\n",
       "      <td> GG</td>\n",
       "      <td> TT</td>\n",
       "      <td>  GG</td>\n",
       "      <td>  TT</td>\n",
       "      <td>...</td>\n",
       "    </tr>\n",
       "    <tr>\n",
       "      <th>12SELI0013</th>\n",
       "      <td>   Selinkenyi</td>\n",
       "      <td>     Mali</td>\n",
       "      <td>  backcross Acol - late</td>\n",
       "      <td> M-backcross</td>\n",
       "      <td> W;+</td>\n",
       "      <td>    Mop</td>\n",
       "      <td>  32.62</td>\n",
       "      <td> 10.50</td>\n",
       "      <td> CC</td>\n",
       "      <td> TT</td>\n",
       "      <td>  AA</td>\n",
       "      <td>  AA</td>\n",
       "      <td>  GG</td>\n",
       "      <td> GG</td>\n",
       "      <td>  TT</td>\n",
       "      <td> TC</td>\n",
       "      <td> GA</td>\n",
       "      <td> TC</td>\n",
       "      <td>  GA</td>\n",
       "      <td>  TC</td>\n",
       "      <td>...</td>\n",
       "    </tr>\n",
       "    <tr>\n",
       "      <th>12SELI0021</th>\n",
       "      <td>   Selinkenyi</td>\n",
       "      <td>     Mali</td>\n",
       "      <td>  backcross Acol - late</td>\n",
       "      <td> M-backcross</td>\n",
       "      <td> W;W</td>\n",
       "      <td>    Mop</td>\n",
       "      <td>  97.31</td>\n",
       "      <td> 11.77</td>\n",
       "      <td> CC</td>\n",
       "      <td> TT</td>\n",
       "      <td>  AA</td>\n",
       "      <td>  AA</td>\n",
       "      <td>  GG</td>\n",
       "      <td> GG</td>\n",
       "      <td>  TT</td>\n",
       "      <td> CC</td>\n",
       "      <td> GA</td>\n",
       "      <td> TT</td>\n",
       "      <td>  GG</td>\n",
       "      <td>  TT</td>\n",
       "      <td>...</td>\n",
       "    </tr>\n",
       "    <tr>\n",
       "      <th>12SELI0026</th>\n",
       "      <td>   Selinkenyi</td>\n",
       "      <td>     Mali</td>\n",
       "      <td>  backcross Acol - late</td>\n",
       "      <td> M-backcross</td>\n",
       "      <td> W;W</td>\n",
       "      <td>    Mop</td>\n",
       "      <td>   8.64</td>\n",
       "      <td>  3.33</td>\n",
       "      <td> CC</td>\n",
       "      <td> TT</td>\n",
       "      <td>  AA</td>\n",
       "      <td>  AA</td>\n",
       "      <td>  GG</td>\n",
       "      <td> GG</td>\n",
       "      <td>  TT</td>\n",
       "      <td> TC</td>\n",
       "      <td> GG</td>\n",
       "      <td> TT</td>\n",
       "      <td>  GG</td>\n",
       "      <td>  TT</td>\n",
       "      <td>...</td>\n",
       "    </tr>\n",
       "    <tr>\n",
       "      <th>12SELI0029</th>\n",
       "      <td>   Selinkenyi</td>\n",
       "      <td>     Mali</td>\n",
       "      <td>  backcross Acol - late</td>\n",
       "      <td>           M</td>\n",
       "      <td> W;+</td>\n",
       "      <td>    Mop</td>\n",
       "      <td>   9.69</td>\n",
       "      <td>  4.35</td>\n",
       "      <td> CC</td>\n",
       "      <td> TT</td>\n",
       "      <td>  AA</td>\n",
       "      <td>  AA</td>\n",
       "      <td>  GG</td>\n",
       "      <td> GG</td>\n",
       "      <td>  TT</td>\n",
       "      <td> CC</td>\n",
       "      <td> GA</td>\n",
       "      <td> TC</td>\n",
       "      <td>  GA</td>\n",
       "      <td>  TC</td>\n",
       "      <td>...</td>\n",
       "    </tr>\n",
       "    <tr>\n",
       "      <th>12SELI0063</th>\n",
       "      <td>   Selinkenyi</td>\n",
       "      <td>     Mali</td>\n",
       "      <td>  backcross Acol - late</td>\n",
       "      <td> M-backcross</td>\n",
       "      <td> W;W</td>\n",
       "      <td>    Mop</td>\n",
       "      <td>  13.49</td>\n",
       "      <td>  7.07</td>\n",
       "      <td> CC</td>\n",
       "      <td> TT</td>\n",
       "      <td>  AA</td>\n",
       "      <td>  AA</td>\n",
       "      <td>  GG</td>\n",
       "      <td> GG</td>\n",
       "      <td>  TT</td>\n",
       "      <td> TC</td>\n",
       "      <td> GG</td>\n",
       "      <td> TT</td>\n",
       "      <td>  GG</td>\n",
       "      <td>  TT</td>\n",
       "      <td>...</td>\n",
       "    </tr>\n",
       "    <tr>\n",
       "      <th>12SELI0072</th>\n",
       "      <td>   Selinkenyi</td>\n",
       "      <td>     Mali</td>\n",
       "      <td>  backcross Acol - late</td>\n",
       "      <td> M-backcross</td>\n",
       "      <td> W;+</td>\n",
       "      <td>    Mop</td>\n",
       "      <td>  80.95</td>\n",
       "      <td> 11.67</td>\n",
       "      <td> CC</td>\n",
       "      <td> TT</td>\n",
       "      <td>  AA</td>\n",
       "      <td>  AA</td>\n",
       "      <td>  GG</td>\n",
       "      <td> GG</td>\n",
       "      <td>  TT</td>\n",
       "      <td> TT</td>\n",
       "      <td> GG</td>\n",
       "      <td> TC</td>\n",
       "      <td>  GA</td>\n",
       "      <td>  TC</td>\n",
       "      <td>...</td>\n",
       "    </tr>\n",
       "    <tr>\n",
       "      <th>06SELI0027</th>\n",
       "      <td>   Selinkenyi</td>\n",
       "      <td>     Mali</td>\n",
       "      <td> backcross Agam - early</td>\n",
       "      <td> S-backcross</td>\n",
       "      <td> NaN</td>\n",
       "      <td>    NaN</td>\n",
       "      <td>  98.98</td>\n",
       "      <td> 13.80</td>\n",
       "      <td> AC</td>\n",
       "      <td> CT</td>\n",
       "      <td>  TA</td>\n",
       "      <td>  GA</td>\n",
       "      <td>  TT</td>\n",
       "      <td> AG</td>\n",
       "      <td>  GT</td>\n",
       "      <td> TT</td>\n",
       "      <td> GG</td>\n",
       "      <td> TC</td>\n",
       "      <td>  GA</td>\n",
       "      <td>  TC</td>\n",
       "      <td>...</td>\n",
       "    </tr>\n",
       "    <tr>\n",
       "      <th>06SELI0041</th>\n",
       "      <td>   Selinkenyi</td>\n",
       "      <td>     Mali</td>\n",
       "      <td> backcross Agam - early</td>\n",
       "      <td> S-backcross</td>\n",
       "      <td> +;+</td>\n",
       "      <td>    Sav</td>\n",
       "      <td>  30.42</td>\n",
       "      <td>  7.89</td>\n",
       "      <td> AC</td>\n",
       "      <td> CT</td>\n",
       "      <td>  TA</td>\n",
       "      <td>  GG</td>\n",
       "      <td>  TG</td>\n",
       "      <td> AG</td>\n",
       "      <td>  GG</td>\n",
       "      <td> TT</td>\n",
       "      <td> GA</td>\n",
       "      <td> TT</td>\n",
       "      <td>  GG</td>\n",
       "      <td>  TC</td>\n",
       "      <td>...</td>\n",
       "    </tr>\n",
       "    <tr>\n",
       "      <th>06SELI0096</th>\n",
       "      <td>   Selinkenyi</td>\n",
       "      <td>     Mali</td>\n",
       "      <td> backcross Agam - early</td>\n",
       "      <td> S-backcross</td>\n",
       "      <td> NaN</td>\n",
       "      <td>    NaN</td>\n",
       "      <td>  26.26</td>\n",
       "      <td>  8.05</td>\n",
       "      <td> AC</td>\n",
       "      <td> CC</td>\n",
       "      <td>  TT</td>\n",
       "      <td>  GA</td>\n",
       "      <td>  TT</td>\n",
       "      <td> AA</td>\n",
       "      <td>  GG</td>\n",
       "      <td> TT</td>\n",
       "      <td> GG</td>\n",
       "      <td> TC</td>\n",
       "      <td>  GG</td>\n",
       "      <td>  TC</td>\n",
       "      <td>...</td>\n",
       "    </tr>\n",
       "    <tr>\n",
       "      <th>06SELI0043</th>\n",
       "      <td>   Selinkenyi</td>\n",
       "      <td>     Mali</td>\n",
       "      <td>                     F1</td>\n",
       "      <td>          F1</td>\n",
       "      <td> W;+</td>\n",
       "      <td>     UD</td>\n",
       "      <td>  23.64</td>\n",
       "      <td>  9.38</td>\n",
       "      <td> AC</td>\n",
       "      <td> CT</td>\n",
       "      <td>  TA</td>\n",
       "      <td>  GA</td>\n",
       "      <td>  TG</td>\n",
       "      <td> AG</td>\n",
       "      <td>  GT</td>\n",
       "      <td> TC</td>\n",
       "      <td> GA</td>\n",
       "      <td> TC</td>\n",
       "      <td>  GA</td>\n",
       "      <td>  TC</td>\n",
       "      <td>...</td>\n",
       "    </tr>\n",
       "    <tr>\n",
       "      <th>06SELI0107</th>\n",
       "      <td>   Selinkenyi</td>\n",
       "      <td>     Mali</td>\n",
       "      <td>                     F1</td>\n",
       "      <td>          F1</td>\n",
       "      <td> W;+</td>\n",
       "      <td>     UD</td>\n",
       "      <td>  41.68</td>\n",
       "      <td> 12.22</td>\n",
       "      <td> AC</td>\n",
       "      <td> CT</td>\n",
       "      <td>  TA</td>\n",
       "      <td>  GA</td>\n",
       "      <td>  TG</td>\n",
       "      <td> AG</td>\n",
       "      <td>  GT</td>\n",
       "      <td> TC</td>\n",
       "      <td> GA</td>\n",
       "      <td> TC</td>\n",
       "      <td>  GA</td>\n",
       "      <td>  TC</td>\n",
       "      <td>...</td>\n",
       "    </tr>\n",
       "    <tr>\n",
       "      <th>06SELI0111</th>\n",
       "      <td>   Selinkenyi</td>\n",
       "      <td>     Mali</td>\n",
       "      <td>                     F1</td>\n",
       "      <td>          F1</td>\n",
       "      <td> W;+</td>\n",
       "      <td>     UD</td>\n",
       "      <td>  92.23</td>\n",
       "      <td> 22.09</td>\n",
       "      <td> AC</td>\n",
       "      <td> CT</td>\n",
       "      <td>  TA</td>\n",
       "      <td>  GA</td>\n",
       "      <td>  TG</td>\n",
       "      <td> AG</td>\n",
       "      <td>  GT</td>\n",
       "      <td> TC</td>\n",
       "      <td> GA</td>\n",
       "      <td> TC</td>\n",
       "      <td>  GA</td>\n",
       "      <td>  TC</td>\n",
       "      <td>...</td>\n",
       "    </tr>\n",
       "    <tr>\n",
       "      <th>06SELI0112</th>\n",
       "      <td>   Selinkenyi</td>\n",
       "      <td>     Mali</td>\n",
       "      <td>                     F1</td>\n",
       "      <td>          F1</td>\n",
       "      <td> W;+</td>\n",
       "      <td>     UD</td>\n",
       "      <td>  43.21</td>\n",
       "      <td> 17.30</td>\n",
       "      <td> AC</td>\n",
       "      <td> CT</td>\n",
       "      <td>  TA</td>\n",
       "      <td>  GA</td>\n",
       "      <td>  TG</td>\n",
       "      <td> AG</td>\n",
       "      <td>  GT</td>\n",
       "      <td> TC</td>\n",
       "      <td> GA</td>\n",
       "      <td> TC</td>\n",
       "      <td>  GA</td>\n",
       "      <td>  TC</td>\n",
       "      <td>...</td>\n",
       "    </tr>\n",
       "    <tr>\n",
       "      <th>02YORO0050</th>\n",
       "      <td> Yorobougoula</td>\n",
       "      <td>     Mali</td>\n",
       "      <td> mostly allopatric Agam</td>\n",
       "      <td>           S</td>\n",
       "      <td> NaN</td>\n",
       "      <td>    Sav</td>\n",
       "      <td>  13.04</td>\n",
       "      <td>  4.94</td>\n",
       "      <td> AA</td>\n",
       "      <td> CC</td>\n",
       "      <td>  TT</td>\n",
       "      <td>  GG</td>\n",
       "      <td>  TT</td>\n",
       "      <td> AA</td>\n",
       "      <td>  GG</td>\n",
       "      <td> TT</td>\n",
       "      <td> GG</td>\n",
       "      <td> TT</td>\n",
       "      <td>  GG</td>\n",
       "      <td>  TT</td>\n",
       "      <td>...</td>\n",
       "    </tr>\n",
       "    <tr>\n",
       "      <th>02YORO0052</th>\n",
       "      <td> Yorobougoula</td>\n",
       "      <td>     Mali</td>\n",
       "      <td> mostly allopatric Agam</td>\n",
       "      <td>           S</td>\n",
       "      <td> NaN</td>\n",
       "      <td>    Sav</td>\n",
       "      <td>  13.58</td>\n",
       "      <td>  5.03</td>\n",
       "      <td> AA</td>\n",
       "      <td> CC</td>\n",
       "      <td>  TT</td>\n",
       "      <td>  GG</td>\n",
       "      <td>  TT</td>\n",
       "      <td> AA</td>\n",
       "      <td>  GG</td>\n",
       "      <td> TT</td>\n",
       "      <td> GG</td>\n",
       "      <td> TT</td>\n",
       "      <td>  GG</td>\n",
       "      <td>  TT</td>\n",
       "      <td>...</td>\n",
       "    </tr>\n",
       "    <tr>\n",
       "      <th>02YORO0053</th>\n",
       "      <td> Yorobougoula</td>\n",
       "      <td>     Mali</td>\n",
       "      <td> mostly allopatric Agam</td>\n",
       "      <td>           S</td>\n",
       "      <td> NaN</td>\n",
       "      <td>    Sav</td>\n",
       "      <td>  19.92</td>\n",
       "      <td>  7.35</td>\n",
       "      <td> AA</td>\n",
       "      <td> CC</td>\n",
       "      <td>  TT</td>\n",
       "      <td>  GG</td>\n",
       "      <td>  TT</td>\n",
       "      <td> AA</td>\n",
       "      <td>  GG</td>\n",
       "      <td> TT</td>\n",
       "      <td> GG</td>\n",
       "      <td> TT</td>\n",
       "      <td>  GG</td>\n",
       "      <td>  TT</td>\n",
       "      <td>...</td>\n",
       "    </tr>\n",
       "    <tr>\n",
       "      <th>02YORO0054</th>\n",
       "      <td> Yorobougoula</td>\n",
       "      <td>     Mali</td>\n",
       "      <td> mostly allopatric Agam</td>\n",
       "      <td>           S</td>\n",
       "      <td> NaN</td>\n",
       "      <td>    Sav</td>\n",
       "      <td>  16.59</td>\n",
       "      <td>  5.73</td>\n",
       "      <td> AA</td>\n",
       "      <td> CC</td>\n",
       "      <td>  TT</td>\n",
       "      <td>  GG</td>\n",
       "      <td>  TT</td>\n",
       "      <td> AA</td>\n",
       "      <td>  GG</td>\n",
       "      <td> TT</td>\n",
       "      <td> GG</td>\n",
       "      <td> TT</td>\n",
       "      <td>  GG</td>\n",
       "      <td>  TT</td>\n",
       "      <td>...</td>\n",
       "    </tr>\n",
       "    <tr>\n",
       "      <th>02YORO0056</th>\n",
       "      <td> Yorobougoula</td>\n",
       "      <td>     Mali</td>\n",
       "      <td> mostly allopatric Agam</td>\n",
       "      <td>           S</td>\n",
       "      <td> NaN</td>\n",
       "      <td>    Sav</td>\n",
       "      <td>  20.19</td>\n",
       "      <td>  7.11</td>\n",
       "      <td> AA</td>\n",
       "      <td> CC</td>\n",
       "      <td>  TT</td>\n",
       "      <td>  GG</td>\n",
       "      <td>  TT</td>\n",
       "      <td> AA</td>\n",
       "      <td>  GG</td>\n",
       "      <td> TT</td>\n",
       "      <td> GG</td>\n",
       "      <td> TT</td>\n",
       "      <td>  GG</td>\n",
       "      <td>  TT</td>\n",
       "      <td>...</td>\n",
       "    </tr>\n",
       "    <tr>\n",
       "      <th>06SELI0015</th>\n",
       "      <td>   Selinkenyi</td>\n",
       "      <td>     Mali</td>\n",
       "      <td>         sympatric Acol</td>\n",
       "      <td>           M</td>\n",
       "      <td> +;+</td>\n",
       "      <td>    Mop</td>\n",
       "      <td>  29.98</td>\n",
       "      <td>  9.68</td>\n",
       "      <td> CC</td>\n",
       "      <td> TT</td>\n",
       "      <td>  AA</td>\n",
       "      <td>  AA</td>\n",
       "      <td>  GG</td>\n",
       "      <td> GG</td>\n",
       "      <td>  TT</td>\n",
       "      <td> CC</td>\n",
       "      <td> AA</td>\n",
       "      <td> CC</td>\n",
       "      <td>  AA</td>\n",
       "      <td>  CC</td>\n",
       "      <td>...</td>\n",
       "    </tr>\n",
       "    <tr>\n",
       "      <th>06SELI0030</th>\n",
       "      <td>   Selinkenyi</td>\n",
       "      <td>     Mali</td>\n",
       "      <td>         sympatric Acol</td>\n",
       "      <td>           M</td>\n",
       "      <td> +;+</td>\n",
       "      <td>    Mop</td>\n",
       "      <td>  24.98</td>\n",
       "      <td> 10.36</td>\n",
       "      <td> CC</td>\n",
       "      <td> TT</td>\n",
       "      <td>  AA</td>\n",
       "      <td>  AA</td>\n",
       "      <td>  GG</td>\n",
       "      <td> GG</td>\n",
       "      <td>  TT</td>\n",
       "      <td> CC</td>\n",
       "      <td> AA</td>\n",
       "      <td> CC</td>\n",
       "      <td>  AA</td>\n",
       "      <td>  CC</td>\n",
       "      <td>...</td>\n",
       "    </tr>\n",
       "    <tr>\n",
       "      <th>06SELI0035</th>\n",
       "      <td>   Selinkenyi</td>\n",
       "      <td>     Mali</td>\n",
       "      <td>         sympatric Acol</td>\n",
       "      <td>           M</td>\n",
       "      <td> +;+</td>\n",
       "      <td>    Mop</td>\n",
       "      <td>  22.15</td>\n",
       "      <td>  8.08</td>\n",
       "      <td> CC</td>\n",
       "      <td> TT</td>\n",
       "      <td>  AA</td>\n",
       "      <td>  AA</td>\n",
       "      <td>  GG</td>\n",
       "      <td> GG</td>\n",
       "      <td>  TT</td>\n",
       "      <td> CC</td>\n",
       "      <td> AA</td>\n",
       "      <td> CC</td>\n",
       "      <td>  AA</td>\n",
       "      <td>  CC</td>\n",
       "      <td>...</td>\n",
       "    </tr>\n",
       "    <tr>\n",
       "      <th>06SELI0067</th>\n",
       "      <td>   Selinkenyi</td>\n",
       "      <td>     Mali</td>\n",
       "      <td>         sympatric Acol</td>\n",
       "      <td>           M</td>\n",
       "      <td> +;+</td>\n",
       "      <td>    Mop</td>\n",
       "      <td>  25.59</td>\n",
       "      <td>  8.96</td>\n",
       "      <td> CC</td>\n",
       "      <td> TT</td>\n",
       "      <td>  AA</td>\n",
       "      <td>  AA</td>\n",
       "      <td>  GG</td>\n",
       "      <td> GG</td>\n",
       "      <td>  TT</td>\n",
       "      <td> CC</td>\n",
       "      <td> AA</td>\n",
       "      <td> CC</td>\n",
       "      <td>  AA</td>\n",
       "      <td>  CC</td>\n",
       "      <td>...</td>\n",
       "    </tr>\n",
       "    <tr>\n",
       "      <th>06SELI0069</th>\n",
       "      <td>   Selinkenyi</td>\n",
       "      <td>     Mali</td>\n",
       "      <td>         sympatric Acol</td>\n",
       "      <td>           M</td>\n",
       "      <td> +;+</td>\n",
       "      <td>    Mop</td>\n",
       "      <td>  20.94</td>\n",
       "      <td>  6.47</td>\n",
       "      <td> CC</td>\n",
       "      <td> TT</td>\n",
       "      <td>  AA</td>\n",
       "      <td>  AA</td>\n",
       "      <td>  GG</td>\n",
       "      <td> GG</td>\n",
       "      <td>  TT</td>\n",
       "      <td> CC</td>\n",
       "      <td> AA</td>\n",
       "      <td> CC</td>\n",
       "      <td>  AA</td>\n",
       "      <td>  CC</td>\n",
       "      <td>...</td>\n",
       "    </tr>\n",
       "    <tr>\n",
       "      <th>06SELI0092</th>\n",
       "      <td>   Selinkenyi</td>\n",
       "      <td>     Mali</td>\n",
       "      <td>         sympatric Acol</td>\n",
       "      <td>           M</td>\n",
       "      <td> +;+</td>\n",
       "      <td>    Mop</td>\n",
       "      <td>  31.06</td>\n",
       "      <td> 11.91</td>\n",
       "      <td> CC</td>\n",
       "      <td> TT</td>\n",
       "      <td>  AA</td>\n",
       "      <td>  AA</td>\n",
       "      <td>  GG</td>\n",
       "      <td> GG</td>\n",
       "      <td>  TT</td>\n",
       "      <td> CC</td>\n",
       "      <td> AA</td>\n",
       "      <td> CC</td>\n",
       "      <td>  AA</td>\n",
       "      <td>  CC</td>\n",
       "      <td>...</td>\n",
       "    </tr>\n",
       "    <tr>\n",
       "      <th>10SELI_O129</th>\n",
       "      <td>   Selinkenyi</td>\n",
       "      <td>     Mali</td>\n",
       "      <td>         sympatric Acol</td>\n",
       "      <td>           M</td>\n",
       "      <td> NaN</td>\n",
       "      <td>    NaN</td>\n",
       "      <td>  25.55</td>\n",
       "      <td> 10.73</td>\n",
       "      <td> CC</td>\n",
       "      <td> TT</td>\n",
       "      <td>  AA</td>\n",
       "      <td>  AA</td>\n",
       "      <td>  GG</td>\n",
       "      <td> GG</td>\n",
       "      <td>  TT</td>\n",
       "      <td> CC</td>\n",
       "      <td> AA</td>\n",
       "      <td> CC</td>\n",
       "      <td>  AA</td>\n",
       "      <td>  CC</td>\n",
       "      <td>...</td>\n",
       "    </tr>\n",
       "    <tr>\n",
       "      <th>10SELI_O189</th>\n",
       "      <td>   Selinkenyi</td>\n",
       "      <td>     Mali</td>\n",
       "      <td>         sympatric Acol</td>\n",
       "      <td>           M</td>\n",
       "      <td> +;+</td>\n",
       "      <td>    NaN</td>\n",
       "      <td>  18.29</td>\n",
       "      <td>  5.02</td>\n",
       "      <td> CC</td>\n",
       "      <td> TT</td>\n",
       "      <td>  AA</td>\n",
       "      <td> NaN</td>\n",
       "      <td> NaN</td>\n",
       "      <td> GG</td>\n",
       "      <td> NaN</td>\n",
       "      <td> CC</td>\n",
       "      <td> AA</td>\n",
       "      <td> CC</td>\n",
       "      <td> NaN</td>\n",
       "      <td> NaN</td>\n",
       "      <td>...</td>\n",
       "    </tr>\n",
       "    <tr>\n",
       "      <th>06SELI0050</th>\n",
       "      <td>   Selinkenyi</td>\n",
       "      <td>     Mali</td>\n",
       "      <td>         sympatric Agam</td>\n",
       "      <td>           S</td>\n",
       "      <td> NaN</td>\n",
       "      <td>    NaN</td>\n",
       "      <td>  19.90</td>\n",
       "      <td>  6.69</td>\n",
       "      <td> AA</td>\n",
       "      <td> CC</td>\n",
       "      <td>  TT</td>\n",
       "      <td>  GG</td>\n",
       "      <td>  TT</td>\n",
       "      <td> AA</td>\n",
       "      <td>  GG</td>\n",
       "      <td> TT</td>\n",
       "      <td> GG</td>\n",
       "      <td> TT</td>\n",
       "      <td>  GG</td>\n",
       "      <td>  TT</td>\n",
       "      <td>...</td>\n",
       "    </tr>\n",
       "    <tr>\n",
       "      <th>06SELI0102</th>\n",
       "      <td>   Selinkenyi</td>\n",
       "      <td>     Mali</td>\n",
       "      <td>         sympatric Agam</td>\n",
       "      <td>           S</td>\n",
       "      <td> W;+</td>\n",
       "      <td>    Sav</td>\n",
       "      <td>  22.41</td>\n",
       "      <td>  7.11</td>\n",
       "      <td> AA</td>\n",
       "      <td> CC</td>\n",
       "      <td>  TT</td>\n",
       "      <td>  GG</td>\n",
       "      <td>  TT</td>\n",
       "      <td> AA</td>\n",
       "      <td>  GG</td>\n",
       "      <td> TT</td>\n",
       "      <td> GG</td>\n",
       "      <td> TT</td>\n",
       "      <td>  GG</td>\n",
       "      <td>  TT</td>\n",
       "      <td>...</td>\n",
       "    </tr>\n",
       "    <tr>\n",
       "      <th>06SELI0106</th>\n",
       "      <td>   Selinkenyi</td>\n",
       "      <td>     Mali</td>\n",
       "      <td>         sympatric Agam</td>\n",
       "      <td>           S</td>\n",
       "      <td> +;+</td>\n",
       "      <td>    Sav</td>\n",
       "      <td>  51.53</td>\n",
       "      <td> 13.31</td>\n",
       "      <td> AA</td>\n",
       "      <td> CC</td>\n",
       "      <td>  TT</td>\n",
       "      <td>  GG</td>\n",
       "      <td>  TT</td>\n",
       "      <td> AA</td>\n",
       "      <td>  GG</td>\n",
       "      <td> TT</td>\n",
       "      <td> GG</td>\n",
       "      <td> TT</td>\n",
       "      <td>  GG</td>\n",
       "      <td>  TT</td>\n",
       "      <td>...</td>\n",
       "    </tr>\n",
       "    <tr>\n",
       "      <th>06SELI0114</th>\n",
       "      <td>   Selinkenyi</td>\n",
       "      <td>     Mali</td>\n",
       "      <td>         sympatric Agam</td>\n",
       "      <td>           S</td>\n",
       "      <td> +;+</td>\n",
       "      <td>    Sav</td>\n",
       "      <td>  22.61</td>\n",
       "      <td>  8.25</td>\n",
       "      <td> AA</td>\n",
       "      <td> CC</td>\n",
       "      <td>  TT</td>\n",
       "      <td>  GG</td>\n",
       "      <td>  TT</td>\n",
       "      <td> AA</td>\n",
       "      <td>  GG</td>\n",
       "      <td> TT</td>\n",
       "      <td> GG</td>\n",
       "      <td> TT</td>\n",
       "      <td>  GG</td>\n",
       "      <td>  TT</td>\n",
       "      <td>...</td>\n",
       "    </tr>\n",
       "    <tr>\n",
       "      <th>06SELI0117</th>\n",
       "      <td>   Selinkenyi</td>\n",
       "      <td>     Mali</td>\n",
       "      <td>         sympatric Agam</td>\n",
       "      <td>           S</td>\n",
       "      <td> W;+</td>\n",
       "      <td>    Sav</td>\n",
       "      <td>  22.70</td>\n",
       "      <td>  7.40</td>\n",
       "      <td> AA</td>\n",
       "      <td> CC</td>\n",
       "      <td>  TT</td>\n",
       "      <td>  GG</td>\n",
       "      <td>  TT</td>\n",
       "      <td> AG</td>\n",
       "      <td>  GG</td>\n",
       "      <td> TT</td>\n",
       "      <td> GG</td>\n",
       "      <td> TT</td>\n",
       "      <td>  GG</td>\n",
       "      <td>  TT</td>\n",
       "      <td>...</td>\n",
       "    </tr>\n",
       "    <tr>\n",
       "      <th></th>\n",
       "      <td>...</td>\n",
       "      <td>...</td>\n",
       "      <td>...</td>\n",
       "      <td>...</td>\n",
       "      <td>...</td>\n",
       "      <td>...</td>\n",
       "      <td>...</td>\n",
       "      <td>...</td>\n",
       "      <td>...</td>\n",
       "      <td>...</td>\n",
       "      <td>...</td>\n",
       "      <td>...</td>\n",
       "      <td>...</td>\n",
       "      <td>...</td>\n",
       "      <td>...</td>\n",
       "      <td>...</td>\n",
       "      <td>...</td>\n",
       "      <td>...</td>\n",
       "      <td>...</td>\n",
       "      <td>...</td>\n",
       "    </tr>\n",
       "  </tbody>\n",
       "</table>\n",
       "<p>62 rows × 25 columns</p>\n",
       "</div>"
      ],
      "text/plain": [
       "                     site   country                   group          28S  kdr  \\\n",
       "sample                                                                          \n",
       "05TAKU0005        Takouti      Mali         allopatric Acol            M  NaN   \n",
       "05TAKU0007        Takouti      Mali         allopatric Acol            M  NaN   \n",
       "06TISS0021        Tissana      Mali         allopatric Acol            M  +;+   \n",
       "06TISS0022        Tissana      Mali         allopatric Acol            M  +;+   \n",
       "06TISS0023        Tissana      Mali         allopatric Acol            M  +;+   \n",
       "06TISS0024        Tissana      Mali         allopatric Acol            M  +;+   \n",
       "06TISS0026        Tissana      Mali         allopatric Acol            M  +;+   \n",
       "06FOUM0032        Foumbot  Cameroon         allopatric Agam            S  NaN   \n",
       "06FOUM0033        Foumbot  Cameroon         allopatric Agam            S  NaN   \n",
       "06FOUM0035        Foumbot  Cameroon         allopatric Agam            S  NaN   \n",
       "06FOUM0036        Foumbot  Cameroon         allopatric Agam            S  NaN   \n",
       "06FOUM0037        Foumbot  Cameroon         allopatric Agam            S  NaN   \n",
       "06SELI0045     Selinkenyi      Mali  backcross Acol - early  M-backcross  +;+   \n",
       "06SELI0090     Selinkenyi      Mali  backcross Acol - early           F1  +;+   \n",
       "06SELI0110     Selinkenyi      Mali  backcross Acol - early  M-backcross  W;+   \n",
       "06SELI0120     Selinkenyi      Mali  backcross Acol - early  M-backcross  +;+   \n",
       "06SELI0141     Selinkenyi      Mali  backcross Acol - early  M-backcross  +;+   \n",
       "10SELI_O124    Selinkenyi      Mali   backcross Acol - late  M-backcross  NaN   \n",
       "10SELI_O125    Selinkenyi      Mali   backcross Acol - late  M-backcross  NaN   \n",
       "10SELI_O132    Selinkenyi      Mali   backcross Acol - late  M-backcross  NaN   \n",
       "10SELI_O134    Selinkenyi      Mali   backcross Acol - late  M-backcross  NaN   \n",
       "10SELI_O160    Selinkenyi      Mali   backcross Acol - late  M-backcross  NaN   \n",
       "10SELI_O171    Selinkenyi      Mali   backcross Acol - late  M-backcross  NaN   \n",
       "10SELI_O190    Selinkenyi      Mali   backcross Acol - late            M  NaN   \n",
       "12SELI0002     Selinkenyi      Mali   backcross Acol - late  M-backcross  W;W   \n",
       "12SELI0003     Selinkenyi      Mali   backcross Acol - late  M-backcross  W;W   \n",
       "12SELI0006     Selinkenyi      Mali   backcross Acol - late  M-backcross  W;+   \n",
       "12SELI0009     Selinkenyi      Mali   backcross Acol - late  M-backcross  W;+   \n",
       "12SELI0012     Selinkenyi      Mali   backcross Acol - late  M-backcross  W;W   \n",
       "12SELI0013     Selinkenyi      Mali   backcross Acol - late  M-backcross  W;+   \n",
       "12SELI0021     Selinkenyi      Mali   backcross Acol - late  M-backcross  W;W   \n",
       "12SELI0026     Selinkenyi      Mali   backcross Acol - late  M-backcross  W;W   \n",
       "12SELI0029     Selinkenyi      Mali   backcross Acol - late            M  W;+   \n",
       "12SELI0063     Selinkenyi      Mali   backcross Acol - late  M-backcross  W;W   \n",
       "12SELI0072     Selinkenyi      Mali   backcross Acol - late  M-backcross  W;+   \n",
       "06SELI0027     Selinkenyi      Mali  backcross Agam - early  S-backcross  NaN   \n",
       "06SELI0041     Selinkenyi      Mali  backcross Agam - early  S-backcross  +;+   \n",
       "06SELI0096     Selinkenyi      Mali  backcross Agam - early  S-backcross  NaN   \n",
       "06SELI0043     Selinkenyi      Mali                      F1           F1  W;+   \n",
       "06SELI0107     Selinkenyi      Mali                      F1           F1  W;+   \n",
       "06SELI0111     Selinkenyi      Mali                      F1           F1  W;+   \n",
       "06SELI0112     Selinkenyi      Mali                      F1           F1  W;+   \n",
       "02YORO0050   Yorobougoula      Mali  mostly allopatric Agam            S  NaN   \n",
       "02YORO0052   Yorobougoula      Mali  mostly allopatric Agam            S  NaN   \n",
       "02YORO0053   Yorobougoula      Mali  mostly allopatric Agam            S  NaN   \n",
       "02YORO0054   Yorobougoula      Mali  mostly allopatric Agam            S  NaN   \n",
       "02YORO0056   Yorobougoula      Mali  mostly allopatric Agam            S  NaN   \n",
       "06SELI0015     Selinkenyi      Mali          sympatric Acol            M  +;+   \n",
       "06SELI0030     Selinkenyi      Mali          sympatric Acol            M  +;+   \n",
       "06SELI0035     Selinkenyi      Mali          sympatric Acol            M  +;+   \n",
       "06SELI0067     Selinkenyi      Mali          sympatric Acol            M  +;+   \n",
       "06SELI0069     Selinkenyi      Mali          sympatric Acol            M  +;+   \n",
       "06SELI0092     Selinkenyi      Mali          sympatric Acol            M  +;+   \n",
       "10SELI_O129    Selinkenyi      Mali          sympatric Acol            M  NaN   \n",
       "10SELI_O189    Selinkenyi      Mali          sympatric Acol            M  +;+   \n",
       "06SELI0050     Selinkenyi      Mali          sympatric Agam            S  NaN   \n",
       "06SELI0102     Selinkenyi      Mali          sympatric Agam            S  W;+   \n",
       "06SELI0106     Selinkenyi      Mali          sympatric Agam            S  +;+   \n",
       "06SELI0114     Selinkenyi      Mali          sympatric Agam            S  +;+   \n",
       "06SELI0117     Selinkenyi      Mali          sympatric Agam            S  W;+   \n",
       "                      ...       ...                     ...          ...  ...   \n",
       "\n",
       "            ChrForm2  Total reads (Mb)  2L cov (X) 01039-358 01061-057  \\\n",
       "sample                                                                   \n",
       "05TAKU0005       Mop             77.92        8.99        CC        TT   \n",
       "05TAKU0007       Mop            110.37       13.11        CC        TT   \n",
       "06TISS0021       Mop             52.58       20.26        CC        TT   \n",
       "06TISS0022       Mop             21.07        8.40        CC        TT   \n",
       "06TISS0023       Mop             28.42       10.44        CC        TT   \n",
       "06TISS0024       Mop             28.92       10.72        CC        TT   \n",
       "06TISS0026       Mop             25.86        9.78        CC        TT   \n",
       "06FOUM0032       NaN             21.87        8.55        AA        CC   \n",
       "06FOUM0033       NaN             22.62        7.83        AA        CC   \n",
       "06FOUM0035       NaN             93.68       39.02        AA        CC   \n",
       "06FOUM0036       NaN             31.60       12.50        AA        CC   \n",
       "06FOUM0037       NaN             20.35        7.56        AA        CC   \n",
       "06SELI0045    hybrid             17.18        6.41        AC        CT   \n",
       "06SELI0090    hybrid             31.15       11.67        AC        CT   \n",
       "06SELI0110       Mop             27.78       10.23        CC        TT   \n",
       "06SELI0120       Mop             23.06        7.86        CC        TT   \n",
       "06SELI0141    hybrid            145.67       17.99        CC        TT   \n",
       "10SELI_O124      NaN             18.85        8.66        CC        TT   \n",
       "10SELI_O125      NaN             13.03        5.80        CC        TT   \n",
       "10SELI_O132      NaN             17.57        5.40        CC        TT   \n",
       "10SELI_O134      NaN             16.99        7.73        CC        TT   \n",
       "10SELI_O160      NaN             22.03        9.70        CC        TT   \n",
       "10SELI_O171      NaN              9.33        4.22        CC        TT   \n",
       "10SELI_O190      NaN             50.55       14.91        CC        TT   \n",
       "12SELI0002       Mop             19.39        4.66        CC        TT   \n",
       "12SELI0003       Mop             22.17        5.97        CC        TT   \n",
       "12SELI0006       Mop             19.85        4.41        CC        TT   \n",
       "12SELI0009       Mop             33.43        8.61        CC        TT   \n",
       "12SELI0012       Mop              7.62        3.97        CC        TT   \n",
       "12SELI0013       Mop             32.62       10.50        CC        TT   \n",
       "12SELI0021       Mop             97.31       11.77        CC        TT   \n",
       "12SELI0026       Mop              8.64        3.33        CC        TT   \n",
       "12SELI0029       Mop              9.69        4.35        CC        TT   \n",
       "12SELI0063       Mop             13.49        7.07        CC        TT   \n",
       "12SELI0072       Mop             80.95       11.67        CC        TT   \n",
       "06SELI0027       NaN             98.98       13.80        AC        CT   \n",
       "06SELI0041       Sav             30.42        7.89        AC        CT   \n",
       "06SELI0096       NaN             26.26        8.05        AC        CC   \n",
       "06SELI0043        UD             23.64        9.38        AC        CT   \n",
       "06SELI0107        UD             41.68       12.22        AC        CT   \n",
       "06SELI0111        UD             92.23       22.09        AC        CT   \n",
       "06SELI0112        UD             43.21       17.30        AC        CT   \n",
       "02YORO0050       Sav             13.04        4.94        AA        CC   \n",
       "02YORO0052       Sav             13.58        5.03        AA        CC   \n",
       "02YORO0053       Sav             19.92        7.35        AA        CC   \n",
       "02YORO0054       Sav             16.59        5.73        AA        CC   \n",
       "02YORO0056       Sav             20.19        7.11        AA        CC   \n",
       "06SELI0015       Mop             29.98        9.68        CC        TT   \n",
       "06SELI0030       Mop             24.98       10.36        CC        TT   \n",
       "06SELI0035       Mop             22.15        8.08        CC        TT   \n",
       "06SELI0067       Mop             25.59        8.96        CC        TT   \n",
       "06SELI0069       Mop             20.94        6.47        CC        TT   \n",
       "06SELI0092       Mop             31.06       11.91        CC        TT   \n",
       "10SELI_O129      NaN             25.55       10.73        CC        TT   \n",
       "10SELI_O189      NaN             18.29        5.02        CC        TT   \n",
       "06SELI0050       NaN             19.90        6.69        AA        CC   \n",
       "06SELI0102       Sav             22.41        7.11        AA        CC   \n",
       "06SELI0106       Sav             51.53       13.31        AA        CC   \n",
       "06SELI0114       Sav             22.61        8.25        AA        CC   \n",
       "06SELI0117       Sav             22.70        7.40        AA        CC   \n",
       "                 ...               ...         ...       ...       ...   \n",
       "\n",
       "            01061-488 01070-211 01073-073 01073-213 01076-129 04679-157  \\\n",
       "sample                                                                    \n",
       "05TAKU0005         AA        AA        GG        GG        TT        CC   \n",
       "05TAKU0007         AA        AA        GG        GG        TT        CC   \n",
       "06TISS0021         AA        AA        GG        GG        TT        CC   \n",
       "06TISS0022         AA        AA        GG        GG        TT        CC   \n",
       "06TISS0023         AA        AA        GG        GG        TT        CC   \n",
       "06TISS0024         AA        AA        GG        GG        TT        CC   \n",
       "06TISS0026         AA        AA        GG        GG        TT        CC   \n",
       "06FOUM0032         TT        GG        TT        AA        GG        TT   \n",
       "06FOUM0033         TT        GG        TT        AA        GG        TT   \n",
       "06FOUM0035         TT        GG        TT        AA        GG        TT   \n",
       "06FOUM0036         TT        GG        TT        AA        GG        TT   \n",
       "06FOUM0037         TT        GG        TT        AA        GG        TT   \n",
       "06SELI0045         AA        GA        TG        AG        GT        TC   \n",
       "06SELI0090         AA        GA        TG        AG        GT        TC   \n",
       "06SELI0110         AA        AA        GG        GG        TT        TC   \n",
       "06SELI0120         AA        AA        TG        GG        TT        TC   \n",
       "06SELI0141         AA        GA        TG        AG        GT        TC   \n",
       "10SELI_O124        AA        AA        GG        GG        TT        TC   \n",
       "10SELI_O125        AA        AA        GG        GG        TT        CC   \n",
       "10SELI_O132        AA        AA        GG        GG        TT        TT   \n",
       "10SELI_O134        AA        AA        GG        GG        TT        CC   \n",
       "10SELI_O160       NaN       NaN       NaN        GG       NaN        TC   \n",
       "10SELI_O171       NaN       NaN       NaN        GG       NaN        CC   \n",
       "10SELI_O190       NaN       NaN       NaN        GG       NaN        TC   \n",
       "12SELI0002         AA        AA        GG        GG        TT        TT   \n",
       "12SELI0003         AA        AA        GG        GG        TT        TT   \n",
       "12SELI0006         AA        AA        GG        GG        TT        TC   \n",
       "12SELI0009         AA        AA        GG        GG        TT        TC   \n",
       "12SELI0012         AA        AA        GG        GG        TT        TC   \n",
       "12SELI0013         AA        AA        GG        GG        TT        TC   \n",
       "12SELI0021         AA        AA        GG        GG        TT        CC   \n",
       "12SELI0026         AA        AA        GG        GG        TT        TC   \n",
       "12SELI0029         AA        AA        GG        GG        TT        CC   \n",
       "12SELI0063         AA        AA        GG        GG        TT        TC   \n",
       "12SELI0072         AA        AA        GG        GG        TT        TT   \n",
       "06SELI0027         TA        GA        TT        AG        GT        TT   \n",
       "06SELI0041         TA        GG        TG        AG        GG        TT   \n",
       "06SELI0096         TT        GA        TT        AA        GG        TT   \n",
       "06SELI0043         TA        GA        TG        AG        GT        TC   \n",
       "06SELI0107         TA        GA        TG        AG        GT        TC   \n",
       "06SELI0111         TA        GA        TG        AG        GT        TC   \n",
       "06SELI0112         TA        GA        TG        AG        GT        TC   \n",
       "02YORO0050         TT        GG        TT        AA        GG        TT   \n",
       "02YORO0052         TT        GG        TT        AA        GG        TT   \n",
       "02YORO0053         TT        GG        TT        AA        GG        TT   \n",
       "02YORO0054         TT        GG        TT        AA        GG        TT   \n",
       "02YORO0056         TT        GG        TT        AA        GG        TT   \n",
       "06SELI0015         AA        AA        GG        GG        TT        CC   \n",
       "06SELI0030         AA        AA        GG        GG        TT        CC   \n",
       "06SELI0035         AA        AA        GG        GG        TT        CC   \n",
       "06SELI0067         AA        AA        GG        GG        TT        CC   \n",
       "06SELI0069         AA        AA        GG        GG        TT        CC   \n",
       "06SELI0092         AA        AA        GG        GG        TT        CC   \n",
       "10SELI_O129        AA        AA        GG        GG        TT        CC   \n",
       "10SELI_O189        AA       NaN       NaN        GG       NaN        CC   \n",
       "06SELI0050         TT        GG        TT        AA        GG        TT   \n",
       "06SELI0102         TT        GG        TT        AA        GG        TT   \n",
       "06SELI0106         TT        GG        TT        AA        GG        TT   \n",
       "06SELI0114         TT        GG        TT        AA        GG        TT   \n",
       "06SELI0117         TT        GG        TT        AG        GG        TT   \n",
       "                  ...       ...       ...       ...       ...       ...   \n",
       "\n",
       "            04691-107 04707-118 04707-247 04707-337      \n",
       "sample                                                   \n",
       "05TAKU0005         AA        CC        AA        CC ...  \n",
       "05TAKU0007         AA        CC        AA        CC ...  \n",
       "06TISS0021         AA        CC        AA        CC ...  \n",
       "06TISS0022         AA        CC        AA        CC ...  \n",
       "06TISS0023         AA        CC        AA        CC ...  \n",
       "06TISS0024         AA        CC        AA        CC ...  \n",
       "06TISS0026         AA        CC        AA        CC ...  \n",
       "06FOUM0032         GG        TT        GG        TT ...  \n",
       "06FOUM0033         GG        TT        GG        TT ...  \n",
       "06FOUM0035         GG        TT        GG        TT ...  \n",
       "06FOUM0036         GG        TT        GG        TT ...  \n",
       "06FOUM0037         GG        TT        GG        TT ...  \n",
       "06SELI0045         AA        CC        GA        TC ...  \n",
       "06SELI0090         GA        CC        GA        CC ...  \n",
       "06SELI0110         GA        TC        GA        TC ...  \n",
       "06SELI0120         GA        CC        AA        CC ...  \n",
       "06SELI0141         GA        CC        GA        CC ...  \n",
       "10SELI_O124        GA        TC        GA        TC ...  \n",
       "10SELI_O125        AA        TC        GA        TC ...  \n",
       "10SELI_O132        GG        TT        GG        TT ...  \n",
       "10SELI_O134        AA        TC        GA        TC ...  \n",
       "10SELI_O160        GA        TC       NaN       NaN ...  \n",
       "10SELI_O171        GA        TC       NaN       NaN ...  \n",
       "10SELI_O190        GA        CC       NaN       NaN ...  \n",
       "12SELI0002         GG        TT        GG        TT ...  \n",
       "12SELI0003         GG        TT        GG        TT ...  \n",
       "12SELI0006         GA        TC        GA        TC ...  \n",
       "12SELI0009         GA        TC        GA        TC ...  \n",
       "12SELI0012         GG        TT        GG        TT ...  \n",
       "12SELI0013         GA        TC        GA        TC ...  \n",
       "12SELI0021         GA        TT        GG        TT ...  \n",
       "12SELI0026         GG        TT        GG        TT ...  \n",
       "12SELI0029         GA        TC        GA        TC ...  \n",
       "12SELI0063         GG        TT        GG        TT ...  \n",
       "12SELI0072         GG        TC        GA        TC ...  \n",
       "06SELI0027         GG        TC        GA        TC ...  \n",
       "06SELI0041         GA        TT        GG        TC ...  \n",
       "06SELI0096         GG        TC        GG        TC ...  \n",
       "06SELI0043         GA        TC        GA        TC ...  \n",
       "06SELI0107         GA        TC        GA        TC ...  \n",
       "06SELI0111         GA        TC        GA        TC ...  \n",
       "06SELI0112         GA        TC        GA        TC ...  \n",
       "02YORO0050         GG        TT        GG        TT ...  \n",
       "02YORO0052         GG        TT        GG        TT ...  \n",
       "02YORO0053         GG        TT        GG        TT ...  \n",
       "02YORO0054         GG        TT        GG        TT ...  \n",
       "02YORO0056         GG        TT        GG        TT ...  \n",
       "06SELI0015         AA        CC        AA        CC ...  \n",
       "06SELI0030         AA        CC        AA        CC ...  \n",
       "06SELI0035         AA        CC        AA        CC ...  \n",
       "06SELI0067         AA        CC        AA        CC ...  \n",
       "06SELI0069         AA        CC        AA        CC ...  \n",
       "06SELI0092         AA        CC        AA        CC ...  \n",
       "10SELI_O129        AA        CC        AA        CC ...  \n",
       "10SELI_O189        AA        CC       NaN       NaN ...  \n",
       "06SELI0050         GG        TT        GG        TT ...  \n",
       "06SELI0102         GG        TT        GG        TT ...  \n",
       "06SELI0106         GG        TT        GG        TT ...  \n",
       "06SELI0114         GG        TT        GG        TT ...  \n",
       "06SELI0117         GG        TT        GG        TT ...  \n",
       "                  ...       ...       ...       ...      \n",
       "\n",
       "[62 rows x 25 columns]"
      ]
     },
     "execution_count": 6,
     "metadata": {},
     "output_type": "execute_result"
    }
   ],
   "source": [
    "## Loading metadata (includes sample list)\n",
    "df_meta = pandas.read_csv(meta_fn, index_col='sample')\n",
    "\n",
    "# create sample_ids list and reorder to match callset file\n",
    "sample_ids = list(df_meta.index)\n",
    "sample_idxs = [all_sample_ids.index(x) for x in sample_ids]\n",
    "tmp = list(zip(sample_idxs, sample_ids))\n",
    "tmp.sort(key=lambda x: x[0])\n",
    "sample_idxs, sample_ids = zip(*tmp)\n",
    "# reorder the dataframe to match sample_ids (and callset)\n",
    "df_meta = df_meta.reindex(sample_ids)\n",
    "# append the callset idxs\n",
    "df_meta['idx'] = pandas.Series(sample_idxs, index=df_meta.index)\n",
    "\n",
    "df_meta"
   ]
  },
  {
   "cell_type": "code",
   "execution_count": null,
   "metadata": {
    "collapsed": false
   },
   "outputs": [],
   "source": []
  },
  {
   "cell_type": "code",
   "execution_count": 7,
   "metadata": {
    "collapsed": false
   },
   "outputs": [],
   "source": [
    "def loadGeneotypeArray(callset, \n",
    "                       range_string, \n",
    "                       MIN_FMTDP,\n",
    "                       MAX_MISSING,\n",
    "                       FILTER_SNP,\n",
    "                       FILTER_BIALLELIC\n",
    "                      ):\n",
    "    \"\"\"\n",
    "    load the callset for given region into GenotypeArray\n",
    "    do basic / first pass filtering as we go\n",
    "    return ( position array, genotype array )\n",
    "    \"\"\"\n",
    "    print('##',range_string,'#'*60)\n",
    "    ch, start, stop = str2range(range_string)\n",
    "\n",
    "    # make SortedIndex of positions so we can quickly locate_range\n",
    "    print(ch, end='\\t')\n",
    "    pos = allel.SortedIndex(callset[ch]['variants']['POS'])\n",
    "    print(pos.shape[0])\n",
    "\n",
    "    # create the slice\n",
    "    sl = pos.locate_range(start,stop)\n",
    "    print(sl)\n",
    "    pos = pos[sl]\n",
    "\n",
    "    if len(pos) == 0: # no loci in slice\n",
    "        g = []\n",
    "    else:\n",
    "\n",
    "        g = allel.GenotypeChunkedArray(callset[ch]['calldata']['genotype'])[sl].take(sample_idxs, axis=1)\n",
    "        print(range_string, g.shape, sep='\\t')\n",
    "\n",
    "        num_loci_in = g.shape[0]\n",
    "        flt = np.ones(num_loci_in, dtype=bool)\n",
    "\n",
    "        # filter SNP\n",
    "        if FILTER_SNP:\n",
    "            flt_snp = callset[ch]['variants']['TYPE'][sl] == b'snp'\n",
    "            flt = flt & flt_snp\n",
    "            print('=',np.count_nonzero(flt), 'passing previous filters & SNP')\n",
    "\n",
    "        # filter genotypes on FMT:DP\n",
    "        if MIN_FMTDP > 0:\n",
    "            genoflt_FMTDP = callset[ch]['calldata']['DP'][sl].take(sample_idxs, axis=1) < MIN_FMTDP\n",
    "            g[genoflt_FMTDP] = [-1,-1]\n",
    "            tmp_num_calls = g.shape[0]*g.shape[1]\n",
    "            tmp = np.count_nonzero(genoflt_FMTDP)\n",
    "            print('{} genotype call of {} ({:02.2f}%) fail FMT:DP filter'.format(\n",
    "                    tmp, tmp_num_calls, 100*tmp/float(tmp_num_calls)))\n",
    "\n",
    "        # filter max_missing (genotype calls)\n",
    "        if MAX_MISSING is not None and MAX_MISSING < len(sample_idxs):\n",
    "            flt_max_missing = np.sum(g.is_missing(), axis=1) <= MAX_MISSING\n",
    "            tmp = num_loci_in - np.count_nonzero(flt_max_missing)\n",
    "            print('{} loci of {} ({:02.2f}%) have > {} missing genotypes'.format(\n",
    "                    tmp, num_loci_in, 100*tmp/float(num_loci_in), MAX_MISSING))\n",
    "            flt = flt & flt_max_missing\n",
    "        print('=',np.count_nonzero(flt), 'passing previous filters & max_missing')\n",
    "\n",
    "        # fliter biallelic\n",
    "        if FILTER_BIALLELIC:\n",
    "            ac = g.count_alleles()\n",
    "            flt_biallelic = ac.allelism() == 2\n",
    "            flt = flt & flt_biallelic\n",
    "            print('=',np.count_nonzero(flt), 'passing previous filters & biallelic')\n",
    "\n",
    "        # apply filters\n",
    "        g = g.compress(flt, axis=0)\n",
    "        pos = pos.compress(flt, axis=0)\n",
    "        print('\\t',pos.shape[0])\n",
    "\n",
    "        return pos, g\n",
    "\n",
    "    \n",
    "def loadMultipleGeneotypeArrays(callset, \n",
    "                       ranges, \n",
    "                       MIN_FMTDP,\n",
    "                       MAX_MISSING,\n",
    "                       FILTER_SNP,\n",
    "                       FILTER_BIALLELIC\n",
    "                      ):\n",
    "    # load the callset for each region into a dict (by region) of GenotypeArrays\n",
    "\n",
    "    pos_dict = OrderedDict()\n",
    "    g_dict = OrderedDict()\n",
    "\n",
    "    for rngstr in ranges:\n",
    "        pos_dict[rngstr], g_dict[rngstr] = loadGeneotypeArray(callset, \n",
    "                                                               rngstr, \n",
    "                                                               MIN_FMTDP,\n",
    "                                                               MAX_MISSING,\n",
    "                                                               FILTER_SNP,\n",
    "                                                               FILTER_BIALLELIC)\n",
    "    return pos_dict, g_dict"
   ]
  },
  {
   "cell_type": "code",
   "execution_count": null,
   "metadata": {
    "collapsed": true
   },
   "outputs": [],
   "source": []
  },
  {
   "cell_type": "code",
   "execution_count": 9,
   "metadata": {
    "collapsed": false
   },
   "outputs": [
    {
     "name": "stdout",
     "output_type": "stream",
     "text": [
      "## 2L ############################################################\n",
      "2L\t6774728\n",
      "slice(0, 6774728, None)\n",
      "2L\t(6774728, 62, 2)\n",
      "= 6050748 passing previous filters & SNP\n",
      "176056411 genotype call of 420033136 (41.91%) fail FMT:DP filter\n",
      "2826182 loci of 6774728 (41.72%) have > 10 missing genotypes\n",
      "= 3948546 passing previous filters & max_missing\n",
      "= 3924049 passing previous filters & biallelic\n",
      "\t 3924049\n"
     ]
    },
    {
     "data": {
      "text/html": [
       "<table class='petl'>\n",
       "<caption>GenotypeArray((3924049, 62, 2), dtype=int8)</caption>\n",
       "<thead>\n",
       "<tr>\n",
       "<th></th>\n",
       "<th>0</th>\n",
       "<th>1</th>\n",
       "<th>2</th>\n",
       "<th>3</th>\n",
       "<th>4</th>\n",
       "<th>...</th>\n",
       "<th>57</th>\n",
       "<th>58</th>\n",
       "<th>59</th>\n",
       "<th>60</th>\n",
       "<th>61</th>\n",
       "</tr>\n",
       "</thead>\n",
       "<tbody>\n",
       "<tr>\n",
       "<td style='font-weight: bold'>0</td>\n",
       "<td>0/0</td>\n",
       "<td>./.</td>\n",
       "<td>0/1</td>\n",
       "<td>0/1</td>\n",
       "<td>0/0</td>\n",
       "<td>...</td>\n",
       "<td>0/0</td>\n",
       "<td>0/0</td>\n",
       "<td>0/0</td>\n",
       "<td>0/0</td>\n",
       "<td>0/0</td>\n",
       "</tr>\n",
       "<tr>\n",
       "<td style='font-weight: bold'>1</td>\n",
       "<td>0/0</td>\n",
       "<td>0/0</td>\n",
       "<td>0/0</td>\n",
       "<td>0/0</td>\n",
       "<td>0/0</td>\n",
       "<td>...</td>\n",
       "<td>0/0</td>\n",
       "<td>0/0</td>\n",
       "<td>0/1</td>\n",
       "<td>0/0</td>\n",
       "<td>0/0</td>\n",
       "</tr>\n",
       "<tr>\n",
       "<td style='font-weight: bold'>2</td>\n",
       "<td>0/0</td>\n",
       "<td>0/0</td>\n",
       "<td>0/0</td>\n",
       "<td>0/0</td>\n",
       "<td>0/0</td>\n",
       "<td>...</td>\n",
       "<td>0/0</td>\n",
       "<td>0/0</td>\n",
       "<td>0/0</td>\n",
       "<td>0/0</td>\n",
       "<td>0/0</td>\n",
       "</tr>\n",
       "<tr>\n",
       "<td style='font-weight: bold'>3</td>\n",
       "<td>0/0</td>\n",
       "<td>0/1</td>\n",
       "<td>0/0</td>\n",
       "<td>0/1</td>\n",
       "<td>0/0</td>\n",
       "<td>...</td>\n",
       "<td>0/1</td>\n",
       "<td>0/0</td>\n",
       "<td>0/0</td>\n",
       "<td>0/1</td>\n",
       "<td>0/0</td>\n",
       "</tr>\n",
       "<tr>\n",
       "<td style='font-weight: bold'>4</td>\n",
       "<td>1/1</td>\n",
       "<td>1/1</td>\n",
       "<td>0/1</td>\n",
       "<td>0/1</td>\n",
       "<td>1/1</td>\n",
       "<td>...</td>\n",
       "<td>0/1</td>\n",
       "<td>0/0</td>\n",
       "<td>0/0</td>\n",
       "<td>0/1</td>\n",
       "<td>0/0</td>\n",
       "</tr>\n",
       "</tbody>\n",
       "</table>\n",
       "<p><strong>...</strong></p>"
      ],
      "text/plain": [
       "GenotypeArray((3924049, 62, 2), dtype=int8)\n",
       "[[[ 0  0]\n",
       "  [-1 -1]\n",
       "  [ 0  1]\n",
       "  ..., \n",
       "  [ 0  0]\n",
       "  [ 0  0]\n",
       "  [ 0  0]]\n",
       "\n",
       " [[ 0  0]\n",
       "  [ 0  0]\n",
       "  [ 0  0]\n",
       "  ..., \n",
       "  [ 0  1]\n",
       "  [ 0  0]\n",
       "  [ 0  0]]\n",
       "\n",
       " [[ 0  0]\n",
       "  [ 0  0]\n",
       "  [ 0  0]\n",
       "  ..., \n",
       "  [ 0  0]\n",
       "  [ 0  0]\n",
       "  [ 0  0]]\n",
       "\n",
       " ..., \n",
       " [[ 1  1]\n",
       "  [ 0  0]\n",
       "  [ 0  0]\n",
       "  ..., \n",
       "  [ 0  0]\n",
       "  [ 0  0]\n",
       "  [ 0  0]]\n",
       "\n",
       " [[ 0  0]\n",
       "  [ 0  0]\n",
       "  [ 0  0]\n",
       "  ..., \n",
       "  [ 0  0]\n",
       "  [ 0  0]\n",
       "  [ 0  0]]\n",
       "\n",
       " [[ 0  0]\n",
       "  [ 0  1]\n",
       "  [ 0  1]\n",
       "  ..., \n",
       "  [ 1  1]\n",
       "  [ 1  1]\n",
       "  [ 0  0]]]"
      ]
     },
     "execution_count": 9,
     "metadata": {},
     "output_type": "execute_result"
    }
   ],
   "source": [
    "pos, g = loadGeneotypeArray(callset, \n",
    "                           ranges[0], \n",
    "                           MIN_FMTDP,\n",
    "                           MAX_MISSING,\n",
    "                           FILTER_SNP,\n",
    "                           FILTER_BIALLELIC)\n",
    "g"
   ]
  },
  {
   "cell_type": "code",
   "execution_count": null,
   "metadata": {
    "collapsed": true
   },
   "outputs": [],
   "source": []
  },
  {
   "cell_type": "code",
   "execution_count": null,
   "metadata": {
    "collapsed": true
   },
   "outputs": [],
   "source": []
  },
  {
   "cell_type": "code",
   "execution_count": 14,
   "metadata": {
    "collapsed": true
   },
   "outputs": [],
   "source": []
  },
  {
   "cell_type": "code",
   "execution_count": 143,
   "metadata": {
    "collapsed": false
   },
   "outputs": [
    {
     "name": "stdout",
     "output_type": "stream",
     "text": [
      "2R {'2Rd': [31373828, 32531185, 41170384, 42344287], '2Rb': [18611501, 19978174, 25385661, 27287713], '2Ru': [31373828, 32531185, 34773589, 35916456], '2Rc': [27287714, 28379045, 30487221, 31373827], '2Rj': [3207587, 3656857, 14459087, 16462119]}\n",
      "2L {'2La': [20056714, 21363564, 41240689, 42858303]}\n"
     ]
    }
   ],
   "source": [
    "# Load plot annotation info\n",
    "# inversions\n",
    "# create a dict by chromosome of dicts by inversion name with [5'start, 5'end, 3'start, 3'end]\n",
    "inversions = dict()\n",
    "with open(INVERSION_GFF_FN) as fh:\n",
    "    for line in fh:\n",
    "        line = line.strip()\n",
    "        if not line or line[0] == '#':\n",
    "            continue\n",
    "        tmp = line.split()\n",
    "        tmp2 = tmp[8].split(';')\n",
    "        if( tmp2[0].endswith(\"_breakpoint5'\") or \n",
    "            tmp2[0].endswith(\"_breakpoint3'\") ):\n",
    "            ch = tmp[0]\n",
    "            if not ch in inversions:\n",
    "                inversions[ch] = dict()\n",
    "            name, rest = tmp2[0].split('_')\n",
    "            name = name.split('=')[1]\n",
    "            if not name in inversions[ch]:\n",
    "                inversions[ch][name] = [None,None,None,None]\n",
    "            if tmp2[0].endswith(\"_breakpoint5'\"):\n",
    "                inversions[ch][name][0] = int(tmp[3])\n",
    "                inversions[ch][name][1] = int(tmp[4])\n",
    "            else:\n",
    "                assert tmp2[0].endswith(\"_breakpoint3'\")\n",
    "                inversions[ch][name][2] = int(tmp[3])\n",
    "                inversions[ch][name][3] = int(tmp[4])\n",
    "                \n",
    "for k,v in inversions.items():\n",
    "    print(k,v)"
   ]
  },
  {
   "cell_type": "code",
   "execution_count": 144,
   "metadata": {
    "collapsed": true
   },
   "outputs": [],
   "source": [
    "def plot_inversions_on_chrom(inversions_on_chrom, ax, y_position=0.9, height=0.033, fontsize=11):\n",
    "    trans = mpl.transforms.blended_transform_factory(ax.transData, ax.transAxes)\n",
    "    for k,v in inversions_on_chrom.items():\n",
    "        print(k,v)\n",
    "        tmp = np.array(v)#/1.0e6\n",
    "        ht = height\n",
    "        ypos = y_position\n",
    "        # @TCC special HACK case for R2u\n",
    "        if k == '2Ru':\n",
    "            ypos = y_position - 2.3*height\n",
    "        # actually put the patches on the axes\n",
    "        ax.add_patch(mpl.patches.Rectangle((tmp[0],ypos-ht), tmp[1]-tmp[0], 2*ht,\n",
    "                                           fc='.5', ec='none', transform=trans))\n",
    "        ax.add_patch(mpl.patches.Rectangle((tmp[2],ypos-ht), tmp[3]-tmp[2], 2*ht,\n",
    "                                           fc='.5', ec='none', transform=trans))\n",
    "        ax.add_patch(mpl.patches.Rectangle((tmp[1],ypos-ht), tmp[2]-tmp[1], 2*ht,\n",
    "                                           fc='#FFFF55', ec='none', transform=trans))\n",
    "        ax.add_patch(mpl.patches.Rectangle((tmp[0],ypos-ht), tmp[3]-tmp[0], 2*ht,\n",
    "                                           fc='none', ec='black', transform=trans))\n",
    "        ax.text((tmp[1]+tmp[3])/2.0, ypos, r'\\textsf{'+str(k)[len(chrom):]+'}', \n",
    "                ha='center', va='center',fontsize=fontsize, transform=trans)  "
   ]
  },
  {
   "cell_type": "code",
   "execution_count": null,
   "metadata": {
    "collapsed": true
   },
   "outputs": [],
   "source": []
  },
  {
   "cell_type": "code",
   "execution_count": 278,
   "metadata": {
    "collapsed": true
   },
   "outputs": [],
   "source": [
    "def calcFst(df_meta, groups1, groups2, window_size):\n",
    "    group1_idxs = sampleIdxsByGroups(df_meta, groups1)\n",
    "    group2_idxs = sampleIdxsByGroups(df_meta, groups2)\n",
    "    #print(repr(group1_idxs))\n",
    "    #print(repr(group2_idxs))\n",
    "    ac1 = g.take(group1_idxs, axis=1).count_alleles()\n",
    "    ac2 = g.take(group2_idxs, axis=1).count_alleles()\n",
    "    window_step = int(window_size/2)\n",
    "    fst, fst_windows, fst_counts = allel.stats.fst.windowed_hudson_fst(\n",
    "                                                pos, ac1, ac2, \n",
    "                                                start=None, stop=None, \n",
    "                                                size=int(window_size), step=window_step, \n",
    "                                                windows=None, fill=np.nan)\n",
    "    return fst, fst_windows, fst_counts"
   ]
  },
  {
   "cell_type": "code",
   "execution_count": 280,
   "metadata": {
    "collapsed": false
   },
   "outputs": [
    {
     "name": "stdout",
     "output_type": "stream",
     "text": [
      "CPU times: user 4.84 s, sys: 1.76 s, total: 6.6 s\n",
      "Wall time: 6.6 s\n"
     ]
    }
   ],
   "source": [
    "%%time\n",
    "fst_window_size = 100e3\n",
    "fst1, fst_windows1, fst_counts1 = calcFst(df_meta, 'allopatric Acol', 'mostly allopatric Agam', fst_window_size)\n",
    "fst2, fst_windows2, fst_counts2 = calcFst(df_meta, 'sympatric Acol', 'sympatric Agam', fst_window_size)\n",
    "fst3, fst_windows3, fst_counts3 = calcFst(df_meta, 'sympatric Acol', 'allopatric Acol', fst_window_size)\n",
    "fst4, fst_windows4, fst_counts4 = calcFst(df_meta, 'sympatric Agam', 'mostly allopatric Agam', fst_window_size)"
   ]
  },
  {
   "cell_type": "code",
   "execution_count": 730,
   "metadata": {
    "collapsed": false
   },
   "outputs": [
    {
     "name": "stdout",
     "output_type": "stream",
     "text": [
      "2La [20056714, 21363564, 41240689, 42858303]\n"
     ]
    },
    {
     "data": {
      "image/png": "[encoded data removed]",
      "text/plain": [
       "<matplotlib.figure.Figure at 0x7fce41898470>"
      ]
     },
     "metadata": {},
     "output_type": "display_data"
    }
   ],
   "source": [
    "# Plot\n",
    "mpl.rc('text', usetex=True)\n",
    "\n",
    "# Plot\n",
    "fig = plt.figure(figsize=(10,8))\n",
    "ax1 = fig.add_subplot(2,1,1)\n",
    "ax1.plot(np.mean(fst_windows1, axis=1), fst1, lw=0.5, label='Allopatric Fst')\n",
    "ax1.plot(np.mean(fst_windows2, axis=1), fst2, 'r-', lw=0.5, label='Sympatric Fst')\n",
    "ax1.plot(np.mean(fst_windows3, axis=1), fst3, 'g-', lw=0.5, label='Acol: Sym v Allo Fst')\n",
    "ax1.plot(np.mean(fst_windows4, axis=1), fst4, 'y-', lw=0.5, label='Agam: Sym v Allo Fst')\n",
    "\n",
    "ax2 = fig.add_subplot(2,1,2)\n",
    "ax2.plot(np.mean(fst_windows1, axis=1), fst_counts1, lw=0.5)\n",
    "\n",
    "## Dxy ##\n",
    "#ax1b = ax1.twinx()\n",
    "#ax1b.plot(np.mean(dxy_windows, axis=1), dxy, 'k-', lw=0.5, label='Allopatric Dxy')\n",
    "#ax1b.set_ylim([0,.15])\n",
    "\n",
    "#ax2.plot(np.mean(dxy_windows, axis=1), dxy_n_bases, 'b-', lw=0.5)\n",
    "#ax2b = ax2.twinx()\n",
    "#ax2b.plot(np.mean(dxy_windows, axis=1), dxy_counts, 'r-', lw=0.5)\n",
    "\n",
    "# inversion annotation\n",
    "ch = '2L'\n",
    "plot_inversions_on_chrom(inversions[ch], ax1, y_position=.05)\n",
    "\n",
    "# Legend\n",
    "ax1.legend()\n",
    "\n",
    "# axes ticks and such\n",
    "for ax in [ax1,ax2]:\n",
    "    ax.set_yticklabels([r'\\textsf{%g}'%(x) for x in ax.get_yticks()])\n",
    "    ax.set_xticklabels([r'\\textsf{%g}'%(x/1e6) for x in ax.get_xticks()]) # scale to MB\n",
    "\n",
    "ax1.set_xlim((1,10e6))\n",
    "ax2.set_xlim((1,10e6))\n",
    "    \n",
    "# Save figure\n",
    "plt.savefig('tmp.svg')"
   ]
  },
  {
   "cell_type": "code",
   "execution_count": 284,
   "metadata": {
    "collapsed": false
   },
   "outputs": [
    {
     "data": {
      "text/plain": [
       "<matplotlib.legend.Legend at 0x7fce60035da0>"
      ]
     },
     "execution_count": 284,
     "metadata": {},
     "output_type": "execute_result"
    },
    {
     "data": {
      "image/png": "[encoded data removed]",
      "text/plain": [
       "<matplotlib.figure.Figure at 0x7fce78383978>"
      ]
     },
     "metadata": {},
     "output_type": "display_data"
    }
   ],
   "source": [
    "fig = plt.figure(figsize=(10,8))\n",
    "ax1 = fig.add_subplot(1,1,1)\n",
    "ax1.plot(np.mean(fst_windows1, axis=1), (fst1-fst2)/fst1, lw=0.5, label='Fst: (allo-sym)/allo')\n",
    "ax1.legend()"
   ]
  },
  {
   "cell_type": "code",
   "execution_count": null,
   "metadata": {
    "collapsed": true
   },
   "outputs": [],
   "source": []
  },
  {
   "cell_type": "code",
   "execution_count": null,
   "metadata": {
    "collapsed": true
   },
   "outputs": [],
   "source": []
  },
  {
   "cell_type": "code",
   "execution_count": null,
   "metadata": {
    "collapsed": false
   },
   "outputs": [],
   "source": [
    "# not sure how to properly interpret this... SE seems to increase with blen\n",
    "allel.stats.fst.blockwise_hudson_fst(ac1, ac2, blen=20)"
   ]
  },
  {
   "cell_type": "code",
   "execution_count": null,
   "metadata": {
    "collapsed": true
   },
   "outputs": [],
   "source": []
  },
  {
   "cell_type": "code",
   "execution_count": null,
   "metadata": {
    "collapsed": true
   },
   "outputs": [],
   "source": []
  },
  {
   "cell_type": "markdown",
   "metadata": {},
   "source": [
    "# F3 from patterson 2012"
   ]
  },
  {
   "cell_type": "code",
   "execution_count": 1054,
   "metadata": {
    "collapsed": true
   },
   "outputs": [],
   "source": [
    "window_size = int(50e3)\n",
    "window_step = int(window_size/2)"
   ]
  },
  {
   "cell_type": "code",
   "execution_count": 1055,
   "metadata": {
    "collapsed": false
   },
   "outputs": [],
   "source": [
    "groupC_idxs = sampleIdxsByGroups(df_meta, 'sympatric Acol')\n",
    "groupA_idxs = sampleIdxsByGroups(df_meta, 'allopatric Acol')\n",
    "groupB_idxs = sampleIdxsByGroups(df_meta, 'allopatric Agam')#, 'mostly allopatric Agam')\n",
    "#print(repr(groupC_idxs))\n",
    "acC = g.take(groupC_idxs, axis=1).count_alleles()\n",
    "acA = g.take(groupA_idxs, axis=1).count_alleles()\n",
    "acB = g.take(groupB_idxs, axis=1).count_alleles()\n",
    "\n",
    "T, B = allel.stats.admixture.patterson_f3(acC, acA, acB)\n",
    "\n",
    "# windowed mean\n",
    "wF3sM, windowssM, countssM = allel.stats.window.windowed_statistic(\n",
    "                        pos, T, \n",
    "                        np.mean, \n",
    "                        start=None, stop=None, \n",
    "                        size=window_size, step=window_step, \n",
    "                        windows=None, fill=np.nan)"
   ]
  },
  {
   "cell_type": "code",
   "execution_count": 1056,
   "metadata": {
    "collapsed": false
   },
   "outputs": [],
   "source": [
    "groupC_idxs = sampleIdxsByGroups(df_meta, 'sympatric Agam')\n",
    "groupA_idxs = sampleIdxsByGroups(df_meta, 'allopatric Acol')\n",
    "groupB_idxs = sampleIdxsByGroups(df_meta, 'allopatric Agam')#, 'mostly allopatric Agam')\n",
    "#print(repr(groupC_idxs))\n",
    "acC = g.take(groupC_idxs, axis=1).count_alleles()\n",
    "acA = g.take(groupA_idxs, axis=1).count_alleles()\n",
    "acB = g.take(groupB_idxs, axis=1).count_alleles()\n",
    "\n",
    "T, B = allel.stats.admixture.patterson_f3(acC, acA, acB)\n",
    "\n",
    "# windowed mean\n",
    "wF3sS, windowssS, countssS = allel.stats.window.windowed_statistic(\n",
    "                        pos, T, \n",
    "                        np.mean, \n",
    "                        start=None, stop=None, \n",
    "                        size=window_size, step=window_step, \n",
    "                        windows=None, fill=np.nan)"
   ]
  },
  {
   "cell_type": "code",
   "execution_count": 1057,
   "metadata": {
    "collapsed": false
   },
   "outputs": [],
   "source": [
    "groupC_idxs = sampleIdxsByGroups(df_meta, 'backcross Acol - early')\n",
    "groupA_idxs = sampleIdxsByGroups(df_meta, 'allopatric Acol')\n",
    "groupB_idxs = sampleIdxsByGroups(df_meta, 'allopatric Agam')#, 'mostly allopatric Agam')\n",
    "#print(repr(groupC_idxs))\n",
    "acC = g.take(groupC_idxs, axis=1).count_alleles()\n",
    "acA = g.take(groupA_idxs, axis=1).count_alleles()\n",
    "acB = g.take(groupB_idxs, axis=1).count_alleles()\n",
    "\n",
    "T, B = allel.stats.admixture.patterson_f3(acC, acA, acB)\n",
    "\n",
    "# windowed mean\n",
    "wF3bc1, windowsbc1, countsbc1 = allel.stats.window.windowed_statistic(\n",
    "                        pos, T, \n",
    "                        np.mean, \n",
    "                        start=None, stop=None, \n",
    "                        size=window_size, step=window_step, \n",
    "                        windows=None, fill=np.nan)"
   ]
  },
  {
   "cell_type": "code",
   "execution_count": 1058,
   "metadata": {
    "collapsed": false
   },
   "outputs": [],
   "source": [
    "groupC_idxs = sampleIdxsByGroups(df_meta, 'backcross Acol - late')\n",
    "groupA_idxs = sampleIdxsByGroups(df_meta, 'allopatric Acol')\n",
    "groupB_idxs = sampleIdxsByGroups(df_meta, 'allopatric Agam')#, 'mostly allopatric Agam')\n",
    "#print(repr(groupC_idxs))\n",
    "acC = g.take(groupC_idxs, axis=1).count_alleles()\n",
    "acA = g.take(groupA_idxs, axis=1).count_alleles()\n",
    "acB = g.take(groupB_idxs, axis=1).count_alleles()\n",
    "\n",
    "T, B = allel.stats.admixture.patterson_f3(acC, acA, acB)\n",
    "\n",
    "# windowed mean\n",
    "wF3bc2, windowsbc2, countsbc2 = allel.stats.window.windowed_statistic(\n",
    "                        pos, T, \n",
    "                        np.mean, \n",
    "                        start=None, stop=None, \n",
    "                        size=window_size, step=window_step, \n",
    "                        windows=None, fill=np.nan)"
   ]
  },
  {
   "cell_type": "code",
   "execution_count": 1061,
   "metadata": {
    "collapsed": false
   },
   "outputs": [
    {
     "data": {
      "text/plain": [
       "<matplotlib.lines.Line2D at 0x7fce200ad898>"
      ]
     },
     "execution_count": 1061,
     "metadata": {},
     "output_type": "execute_result"
    },
    {
     "data": {
      "image/png": "[encoded data removed]",
      "text/plain": [
       "<matplotlib.figure.Figure at 0x7fce1ffc5208>"
      ]
     },
     "metadata": {},
     "output_type": "display_data"
    }
   ],
   "source": [
    "fig = plt.figure(figsize=(14,10))\n",
    "ax = fig.add_subplot(1,1,1)\n",
    "ax.plot(np.mean(windowssM,axis=1), wF3sM, 'r-', alpha=0.5, label='sympatric Acol')\n",
    "ax.plot(np.mean(windowssS,axis=1), wF3sS, 'b-', alpha=0.5, label='sympatric Agam')\n",
    "ax.plot(np.mean(windowsbc1,axis=1), wF3bc1, 'm-', alpha=0.5, label='BC Acol - early')\n",
    "ax.plot(np.mean(windowsbc2,axis=1), wF3bc2, 'g-', alpha=0.5, label='BC Acol - late')\n",
    "ax.legend(loc='lower right')\n",
    "\n",
    "ax.axhline(y=0, color='black', alpha=0.25)\n",
    "ax.axvline(x=2422652, color='black', alpha=0.25)\n",
    "\n",
    "#ax.set_xlim((0,10e6))\n",
    "#ax.set_ylim((-.1,.02))\n",
    "#ax2 = fig.add_subplot(2,1,2)\n",
    "#ax2 = ax.twinx()\n",
    "#ax2.plot(np.mean(windows,axis=1), counts, 'k-', alpha=0.5)\n",
    "#ax2.plot(np.mean(windowsbc1,axis=1), countsbc1, 'r-', alpha=0.5)\n",
    "#ax2.plot(np.mean(windowsbc2,axis=1), countsbc2, 'g-', alpha=0.5)"
   ]
  },
  {
   "cell_type": "code",
   "execution_count": null,
   "metadata": {
    "collapsed": true
   },
   "outputs": [],
   "source": []
  },
  {
   "cell_type": "markdown",
   "metadata": {},
   "source": [
    "# Dxy"
   ]
  },
  {
   "cell_type": "code",
   "execution_count": 189,
   "metadata": {
    "collapsed": false
   },
   "outputs": [],
   "source": [
    "## Load Accessiblity ##\n",
    "accessibility = h5py.File(accessibility_fn, mode='r')\n",
    "chrom = ranges[0]\n",
    "\n",
    "is_accessible = accessibility[chrom]['is_accessible'][:]\n",
    "pos_accessible = np.nonzero(is_accessible)[0] + 1 # positions are one-based\n",
    "loci_accessible, _ = pos.locate_intersection(pos_accessible) # boolean array matching the loci in pos & g"
   ]
  },
  {
   "cell_type": "code",
   "execution_count": null,
   "metadata": {
    "collapsed": true
   },
   "outputs": [],
   "source": []
  },
  {
   "cell_type": "code",
   "execution_count": 668,
   "metadata": {
    "collapsed": false
   },
   "outputs": [],
   "source": [
    "groupA = ['allopatric Acol']\n",
    "groupB = ['mostly allopatric Agam']\n",
    "#groupB = ['allopatric Agam', 'mostly allopatric Agam']\n",
    "\n",
    "window_size = int(100e3)\n",
    "window_step = int(window_size/2.0)"
   ]
  },
  {
   "cell_type": "code",
   "execution_count": 669,
   "metadata": {
    "collapsed": false
   },
   "outputs": [],
   "source": [
    "## accessible Dxy ##\n",
    "# accessible filter\n",
    "g2 = g.compress(loci_accessible, axis=0)\n",
    "pos2 = pos.compress(loci_accessible, axis=0)\n",
    "# groups and allele counts\n",
    "groupA_idxs = sampleIdxsByGroups(df_meta, *groupA)\n",
    "groupB_idxs = sampleIdxsByGroups(df_meta, *groupB)\n",
    "acA = g2.take(groupA_idxs, axis=1).count_alleles()\n",
    "acB = g2.take(groupB_idxs, axis=1).count_alleles()\n",
    "# accessible Dxy\n",
    "dxy, dxy_windows, dxy_n_bases, dxy_counts = allel.stats.diversity.windowed_divergence(\n",
    "                                            pos2, acA, acB, \n",
    "                                            start=None, stop=None, \n",
    "                                            size=window_size, step=window_step,\n",
    "                                            windows=None,\n",
    "                                            is_accessible=is_accessible,\n",
    "                                            fill=np.nan)"
   ]
  },
  {
   "cell_type": "code",
   "execution_count": 670,
   "metadata": {
    "collapsed": false
   },
   "outputs": [],
   "source": [
    "# full Dxy\n",
    "# groups and allele counts\n",
    "groupA_idxs = sampleIdxsByGroups(df_meta, *groupA)\n",
    "groupB_idxs = sampleIdxsByGroups(df_meta, *groupB)\n",
    "acA = g.take(groupA_idxs, axis=1).count_alleles()\n",
    "acB = g.take(groupB_idxs, axis=1).count_alleles()\n",
    "dxyf, dxyf_windows, dxyf_n_bases, dxyf_counts = allel.stats.diversity.windowed_divergence(\n",
    "                                            pos, acA, acB, \n",
    "                                            start=None, stop=None, \n",
    "                                            size=window_size, step=window_step,\n",
    "                                            windows=None,\n",
    "                                            #is_accessible=np.ones_like(is_accessible),\n",
    "                                            fill=np.nan)"
   ]
  },
  {
   "cell_type": "code",
   "execution_count": 671,
   "metadata": {
    "collapsed": false
   },
   "outputs": [],
   "source": [
    "# variant sites only Dxy\n",
    "foo = np.zeros_like(is_accessible)\n",
    "foo[pos] = True\n",
    "# groups and allele counts\n",
    "groupA_idxs = sampleIdxsByGroups(df_meta, *groupA)\n",
    "groupB_idxs = sampleIdxsByGroups(df_meta, *groupB)\n",
    "acA = g.take(groupA_idxs, axis=1).count_alleles()\n",
    "acB = g.take(groupB_idxs, axis=1).count_alleles()\n",
    "dxyv, dxyv_windows, dxyv_n_bases, dxyv_counts = allel.stats.diversity.windowed_divergence(\n",
    "                                            pos, acA, acB, \n",
    "                                            start=None, stop=None, \n",
    "                                            size=window_size, step=window_step,\n",
    "                                            windows=None,\n",
    "                                            is_accessible=foo,\n",
    "                                            fill=np.nan)"
   ]
  },
  {
   "cell_type": "code",
   "execution_count": null,
   "metadata": {
    "collapsed": true
   },
   "outputs": [],
   "source": []
  },
  {
   "cell_type": "code",
   "execution_count": 672,
   "metadata": {
    "collapsed": false
   },
   "outputs": [
    {
     "data": {
      "text/plain": [
       "<matplotlib.text.Text at 0x7fce4966bdd8>"
      ]
     },
     "execution_count": 672,
     "metadata": {},
     "output_type": "execute_result"
    },
    {
     "data": {
      "image/png": "[encoded data removed]",
      "text/plain": [
       "<matplotlib.figure.Figure at 0x7fce49791128>"
      ]
     },
     "metadata": {},
     "output_type": "display_data"
    }
   ],
   "source": [
    "fig = plt.figure(figsize=(10,8))\n",
    "ax = fig.add_subplot(2,1,1)\n",
    "axb = ax.twinx()\n",
    "ax.plot(np.mean(dxy_windows,axis=1)/1e6, dxy, 'r-', alpha=0.5, label=r'accessible $D_{xy}$')\n",
    "#ax.set_ylim((0,.1))\n",
    "ax.plot(np.mean(dxyf_windows,axis=1)/1e6, dxyf, 'b-', alpha=0.5, label='all loci $D_{xy}$')\n",
    "axb.plot(np.mean(dxyv_windows,axis=1)/1e6, dxyv, 'g-', alpha=0.5, label='variant loci $D_{xy}$')\n",
    "\n",
    "ax.set_ylabel(r'$D_{xy}$')\n",
    "axb.set_ylabel(r'var loci $D_{xy}$')\n",
    "handles, labels = ax.get_legend_handles_labels()\n",
    "handlesb, labelsb = axb.get_legend_handles_labels()\n",
    "ax.legend(handles+handlesb, labels+labelsb)\n",
    "\n",
    "ax = fig.add_subplot(2,1,2)\n",
    "ax.plot(np.mean(dxy_windows,axis=1)/1e6, dxy_counts, 'r-', alpha=0.5)\n",
    "#ax.set_ylim((0,.1))\n",
    "#axb = ax.twinx()\n",
    "ax.plot(np.mean(dxyf_windows,axis=1)/1e6, dxyf_counts, 'b-', alpha=0.5)\n",
    "ax.plot(np.mean(dxyv_windows,axis=1)/1e6, dxyv_counts, 'g-', alpha=0.5)\n",
    "ax.set_ylabel(r'num points in window')\n"
   ]
  },
  {
   "cell_type": "code",
   "execution_count": null,
   "metadata": {
    "collapsed": true
   },
   "outputs": [],
   "source": []
  },
  {
   "cell_type": "code",
   "execution_count": null,
   "metadata": {
    "collapsed": true
   },
   "outputs": [],
   "source": []
  },
  {
   "cell_type": "code",
   "execution_count": null,
   "metadata": {
    "collapsed": true
   },
   "outputs": [],
   "source": []
  },
  {
   "cell_type": "code",
   "execution_count": null,
   "metadata": {
    "collapsed": true
   },
   "outputs": [],
   "source": []
  },
  {
   "cell_type": "code",
   "execution_count": null,
   "metadata": {
    "collapsed": true
   },
   "outputs": [],
   "source": []
  },
  {
   "cell_type": "code",
   "execution_count": null,
   "metadata": {
    "collapsed": true
   },
   "outputs": [],
   "source": []
  },
  {
   "cell_type": "code",
   "execution_count": null,
   "metadata": {
    "collapsed": true
   },
   "outputs": [],
   "source": []
  },
  {
   "cell_type": "code",
   "execution_count": null,
   "metadata": {
    "collapsed": true
   },
   "outputs": [],
   "source": []
  },
  {
   "cell_type": "code",
   "execution_count": null,
   "metadata": {
    "collapsed": true
   },
   "outputs": [],
   "source": []
  },
  {
   "cell_type": "code",
   "execution_count": 673,
   "metadata": {
    "collapsed": true
   },
   "outputs": [],
   "source": [
    "## Depth ??"
   ]
  },
  {
   "cell_type": "code",
   "execution_count": 315,
   "metadata": {
    "collapsed": true
   },
   "outputs": [],
   "source": [
    "def readFaidx(faidx_filename, verbose=0):\n",
    "    if( verbose >= 1 ):\n",
    "        print('Reading faidx file \"'+faidx_filename+'\"', file=sys.stderr)\n",
    "    fai = OrderedDict()\n",
    "    with open(faidx_filename) as infile:\n",
    "        for l in infile:\n",
    "            l = l.partition('#')[0].rstrip()\n",
    "            if( not l ):\n",
    "                continue\n",
    "            l = l.split()\n",
    "            assert l[0] not in fai\n",
    "            fai[l[0]] = {'length':int(l[1]),\n",
    "                         'offset':int(l[2]),\n",
    "                         'line_len':int(l[3]),\n",
    "                         'bline_len':int(l[4]),\n",
    "                        }\n",
    "    return fai"
   ]
  },
  {
   "cell_type": "code",
   "execution_count": 505,
   "metadata": {
    "collapsed": false
   },
   "outputs": [],
   "source": [
    "def runSambambaDepth(bam_filenames, \n",
    "                     chrom, \n",
    "                     start=None, \n",
    "                     stop=None,\n",
    "                     chrom_len=None,\n",
    "                     mapping_quality_threshold=30, \n",
    "                     base_quality_threshold=20,\n",
    "                     proper_pair=False, # freebayes does not require proper_pair\n",
    "                     filter_test=False,\n",
    "                     dtype='uint16'):\n",
    "    \"\"\"returns numpy array (1d) with depth for each position\n",
    "    positions are 0-based starting with 'start', \n",
    "    so depth[12-start] is the ones-based position 12 in the sequence\"\"\"\n",
    "    assert chrom_len is not None or stop is not None\n",
    "    # allocate storage\n",
    "    if stop is not None:\n",
    "        if start is None:\n",
    "            length = stop\n",
    "        else:\n",
    "            length = stop-start+1\n",
    "    else:\n",
    "        if start is None:\n",
    "            length = chrom_len\n",
    "        else:\n",
    "            length = chrom_len-start+1\n",
    "    length = length\n",
    "    print('allocating:',length)\n",
    "    out = np.zeros((length), dtype=dtype)\n",
    "    # compose and run command\n",
    "    cmd = [ SAMBAMBA_EXEC,\n",
    "            'depth','base',\n",
    "            '-q', str(int(base_quality_threshold)), # 20 is freebayes standard\n",
    "            ]\n",
    "    # filter part of command\n",
    "    cmd.append('-F')\n",
    "    cmd.append('mapping_quality > {}'.format(mapping_quality_threshold)+\n",
    "               ' and not duplicate'+\n",
    "               ' and not failed_quality_control'+\n",
    "               ' and not secondary_alignment'+\n",
    "               ' and not supplementary')\n",
    "    if proper_pair:\n",
    "        cmd[-1] += ' and proper_pair'\n",
    "    if filter_test:\n",
    "         cmd[-1] += ' and proper_pair'\n",
    "    # range\n",
    "    if start is None:\n",
    "        if stop is None:\n",
    "            start = 1\n",
    "            cmd.extend(['-L', chrom])\n",
    "    else:\n",
    "        if stop is None:\n",
    "            cmd.extend(['-L', chrom+':'+str(int(start))])\n",
    "        else:\n",
    "            cmd.extend(['-L', chrom+':'+str(int(start))+'-'+str(int(stop))])\n",
    "    for v in bam_filenames:\n",
    "        cmd.append(v)\n",
    "    print(\"Running:\",cmd, file=sys.stderr)\n",
    "    sys.stderr.flush()\n",
    "    proc = subprocess.Popen(cmd, stdout=subprocess.PIPE, universal_newlines=True, stderr=subprocess.DEVNULL)\n",
    "    # use cut to simplify parsing\n",
    "    cmd2 = ['/usr/bin/cut', '-f', '2,3']\n",
    "    proc2 = subprocess.Popen(cmd2, stdin=proc.stdout, stdout=subprocess.PIPE)\n",
    "    # parse output\n",
    "    offset = start - 1 # sambamba outputs 0-based POS\n",
    "    next(proc2.stdout)\n",
    "    for line in proc2.stdout:\n",
    "        line = line.decode('utf-8').split('\\t')\n",
    "        out[int(line[0])-offset] = int(line[1])    \n",
    "    return out\n"
   ]
  },
  {
   "cell_type": "code",
   "execution_count": null,
   "metadata": {
    "collapsed": true
   },
   "outputs": [],
   "source": []
  },
  {
   "cell_type": "code",
   "execution_count": null,
   "metadata": {
    "collapsed": true
   },
   "outputs": [],
   "source": [
    "REF_FAIDX_FN = '/data/archive/reference/Anopheles-gambiae-PEST_CHROMOSOMES_AgamP4.fa.fai'\n",
    "SAMBAMBA_EXEC = '/home/travc/install/sambamba'"
   ]
  },
  {
   "cell_type": "code",
   "execution_count": 568,
   "metadata": {
    "collapsed": false
   },
   "outputs": [],
   "source": [
    "fai = readFaidx(REF_FAIDX_FN)"
   ]
  },
  {
   "cell_type": "code",
   "execution_count": 640,
   "metadata": {
    "collapsed": false
   },
   "outputs": [
    {
     "name": "stderr",
     "output_type": "stream",
     "text": [
      "Running: ['/home/travc/install/sambamba', 'depth', 'base', '-q', '20', '-F', 'mapping_quality > 30 and not duplicate and not failed_quality_control and not secondary_alignment and not supplementary', '-L', '2L:1', '/mnt/popi/home/travc/seq_v2/AgamP4/samples/05TAKU0005/05TAKU0005.bam']\n"
     ]
    },
    {
     "name": "stdout",
     "output_type": "stream",
     "text": [
      "allocating: 49364325\n",
      "CPU times: user 58.9 s, sys: 512 ms, total: 59.4 s\n",
      "Wall time: 1min 33s\n"
     ]
    }
   ],
   "source": [
    "%%time\n",
    "chrom = '2L'\n",
    "start = 1\n",
    "stop =  None\n",
    "depth = runSambambaDepth(['/mnt/popi/home/travc/seq_v2/AgamP4/samples/05TAKU0005/05TAKU0005.bam'], \n",
    "                        chrom, start=start, stop=stop,\n",
    "                        chrom_len=fai['2L']['length'],\n",
    "                        proper_pair=False)"
   ]
  },
  {
   "cell_type": "code",
   "execution_count": 641,
   "metadata": {
    "collapsed": false
   },
   "outputs": [
    {
     "name": "stderr",
     "output_type": "stream",
     "text": [
      "Running: ['/home/travc/install/sambamba', 'depth', 'base', '-q', '20', '-F', 'mapping_quality > 30 and not duplicate and not failed_quality_control and not secondary_alignment and not supplementary', '-L', '2L:1', '/mnt/popi/home/travc/seq_v2/AgamP4/samples/02YORO0056/02YORO0056.bam']\n"
     ]
    },
    {
     "name": "stdout",
     "output_type": "stream",
     "text": [
      "allocating: 49364325\n"
     ]
    }
   ],
   "source": [
    "depth2 = runSambambaDepth(['/mnt/popi/home/travc/seq_v2/AgamP4/samples/02YORO0056/02YORO0056.bam'], \n",
    "                        chrom, start=start, stop=stop,\n",
    "                        chrom_len=fai['2L']['length'],\n",
    "                        proper_pair=False)"
   ]
  },
  {
   "cell_type": "code",
   "execution_count": 643,
   "metadata": {
    "collapsed": false
   },
   "outputs": [
    {
     "name": "stdout",
     "output_type": "stream",
     "text": [
      "13.0 7.0\n"
     ]
    }
   ],
   "source": [
    "md1 = np.median(depth)\n",
    "md2 = np.median(depth2)\n",
    "print(md1, md2)"
   ]
  },
  {
   "cell_type": "code",
   "execution_count": null,
   "metadata": {
    "collapsed": true
   },
   "outputs": [],
   "source": []
  },
  {
   "cell_type": "code",
   "execution_count": 567,
   "metadata": {
    "collapsed": false
   },
   "outputs": [
    {
     "data": {
      "text/plain": [
       "(0, 6)"
      ]
     },
     "execution_count": 567,
     "metadata": {},
     "output_type": "execute_result"
    },
    {
     "data": {
      "image/png": "[encoded data removed]",
      "text/plain": [
       "<matplotlib.figure.Figure at 0x7fce4b73be80>"
      ]
     },
     "metadata": {},
     "output_type": "display_data"
    }
   ],
   "source": [
    "fig = plt.figure(figsize=(16,8))\n",
    "ax = fig.add_subplot(1,1,1)\n",
    "ax.plot(depth/md1, 'b-', alpha=0.5)\n",
    "#axb = ax.twinx()\n",
    "ax.plot(depth2/md2, 'r-', alpha=0.5)\n",
    "ax.set_ylim((0,6))"
   ]
  },
  {
   "cell_type": "code",
   "execution_count": 515,
   "metadata": {
    "collapsed": false
   },
   "outputs": [
    {
     "data": {
      "text/plain": [
       "array([12, 12, 12, ..., 17, 18, 18], dtype=uint16)"
      ]
     },
     "execution_count": 515,
     "metadata": {},
     "output_type": "execute_result"
    }
   ],
   "source": [
    "depth"
   ]
  },
  {
   "cell_type": "code",
   "execution_count": 516,
   "metadata": {
    "collapsed": false
   },
   "outputs": [
    {
     "data": {
      "text/plain": [
       "array([ 9,  9,  9, ..., 17, 18, 18], dtype=uint16)"
      ]
     },
     "execution_count": 516,
     "metadata": {},
     "output_type": "execute_result"
    }
   ],
   "source": [
    "depth_pp"
   ]
  },
  {
   "cell_type": "code",
   "execution_count": null,
   "metadata": {
    "collapsed": true
   },
   "outputs": [],
   "source": []
  },
  {
   "cell_type": "code",
   "execution_count": null,
   "metadata": {
    "collapsed": true
   },
   "outputs": [],
   "source": []
  },
  {
   "cell_type": "markdown",
   "metadata": {},
   "source": [
    "# Polarization metrics"
   ]
  },
  {
   "cell_type": "code",
   "execution_count": 882,
   "metadata": {
    "collapsed": false
   },
   "outputs": [
    {
     "name": "stdout",
     "output_type": "stream",
     "text": [
      "7 10\n"
     ]
    }
   ],
   "source": [
    "groupA = ['allopatric Acol']\n",
    "#groupB = ['mostly allopatric Agam']\n",
    "groupB = ['allopatric Agam', 'mostly allopatric Agam']\n",
    "#groupA = ['sympatric Acol']\n",
    "#groupB = ['sympatric Agam']\n",
    "#groupB = ['backcross Acol - late']\n",
    "groupA_idxs = sampleIdxsByGroups(df_meta, *groupA)\n",
    "groupB_idxs = sampleIdxsByGroups(df_meta, *groupB)\n",
    "print(len(groupA_idxs), len(groupB_idxs))\n",
    "acA = g.take(groupA_idxs, axis=1).count_alleles()\n",
    "acB = g.take(groupB_idxs, axis=1).count_alleles()\n",
    "afA = acA.to_frequencies()\n",
    "afB = acB.to_frequencies()"
   ]
  },
  {
   "cell_type": "markdown",
   "metadata": {},
   "source": [
    "### fixed differences"
   ]
  },
  {
   "cell_type": "code",
   "execution_count": 883,
   "metadata": {
    "collapsed": false
   },
   "outputs": [
    {
     "name": "stdout",
     "output_type": "stream",
     "text": [
      "2318 out of 3924049\n"
     ]
    }
   ],
   "source": [
    "fltA = np.logical_and(afA[:,0] == 1, afB[:,0] == 0)\n",
    "fltB = np.logical_and(afA[:,1] == 1, afB[:,1] == 0)\n",
    "flt = np.logical_or(fltA, fltB)\n",
    "print(np.count_nonzero(flt),'out of',flt.shape[0])"
   ]
  },
  {
   "cell_type": "code",
   "execution_count": 884,
   "metadata": {
    "collapsed": false
   },
   "outputs": [
    {
     "data": {
      "text/plain": [
       "(0.5, 1.5)"
      ]
     },
     "execution_count": 884,
     "metadata": {},
     "output_type": "execute_result"
    },
    {
     "data": {
      "image/png": "[encoded data removed]",
      "text/plain": [
       "<matplotlib.figure.Figure at 0x7fce40ef59b0>"
      ]
     },
     "metadata": {},
     "output_type": "display_data"
    }
   ],
   "source": [
    "jitter = np.random.uniform(low=.5, high=1.5, size=flt.shape)\n",
    "\n",
    "fig = plt.figure(figsize=(16,8))\n",
    "ax = fig.add_subplot(1,1,1)\n",
    "ax.plot(pos, flt*jitter, '.', alpha=0.5)\n",
    "ax.set_ylim((.5,1.5))\n",
    "#ax.set_xlim((9.55e6,9.6e6))"
   ]
  },
  {
   "cell_type": "markdown",
   "metadata": {},
   "source": [
    "# $\\pi$ (aka: sequence diversity)"
   ]
  },
  {
   "cell_type": "code",
   "execution_count": 974,
   "metadata": {
    "collapsed": false
   },
   "outputs": [
    {
     "name": "stdout",
     "output_type": "stream",
     "text": [
      "['allopatric Acol'] 7\n",
      "['mostly allopatric Agam'] 5\n",
      "['sympatric Acol'] 8\n",
      "['sympatric Agam'] 7\n",
      "['backcross Acol - early'] 5\n"
     ]
    }
   ],
   "source": [
    "groups = [['allopatric Acol'],\n",
    "          ['mostly allopatric Agam'],\n",
    "          #['allopatric Agam'],\n",
    "          ['sympatric Acol'],\n",
    "          ['sympatric Agam'],\n",
    "          ['backcross Acol - early'],\n",
    "          ]\n",
    "\n",
    "winsize = int(250e3)\n",
    "winstep = int(winsize/2.0)\n",
    "pis = []\n",
    "counts = []\n",
    "\n",
    "for grps in groups:\n",
    "    group_idxs = sampleIdxsByGroups(df_meta, *grps)\n",
    "    print(grps, len(group_idxs))\n",
    "\n",
    "    ac = g.take(group_idxs, axis=1).count_alleles()\n",
    "\n",
    "    pi, wins, n_bases, cnt = allel.stats.diversity.windowed_diversity(pos, ac, \n",
    "                                size=winsize, step=winstep,\n",
    "                                is_accessible=None)#is_accessible)\n",
    "    pis.append(pi)\n",
    "    counts.append(cnt)"
   ]
  },
  {
   "cell_type": "code",
   "execution_count": 975,
   "metadata": {
    "collapsed": false
   },
   "outputs": [
    {
     "data": {
      "text/plain": [
       "(0, 10000000.0)"
      ]
     },
     "execution_count": 975,
     "metadata": {},
     "output_type": "execute_result"
    },
    {
     "data": {
      "image/png": "[encoded data removed]",
      "text/plain": [
       "<matplotlib.figure.Figure at 0x7fce2056b9e8>"
      ]
     },
     "metadata": {},
     "output_type": "display_data"
    }
   ],
   "source": [
    "fig = plt.figure(figsize=(10,8))\n",
    "ax1 = fig.add_subplot(1,1,1)\n",
    "lss = ['r-', 'b-', 'm-', 'c-', 'g-']\n",
    "\n",
    "for i,pi in enumerate(pis):\n",
    "    ax1.plot(np.mean(wins, axis=1), pi, \n",
    "             lss[i], lw=0.75,\n",
    "             label=' & '.join(groups[i]))\n",
    "ax1.legend(loc='upper left')\n",
    "#ax2 = fig.add_subplot(2,1,2)\n",
    "#ax2.plot(np.mean(wins, axis=1), counts, lw=0.5)\n",
    "ax1.set_xlim((0,10e6))"
   ]
  },
  {
   "cell_type": "code",
   "execution_count": null,
   "metadata": {
    "collapsed": true
   },
   "outputs": [],
   "source": []
  },
  {
   "cell_type": "code",
   "execution_count": null,
   "metadata": {
    "collapsed": true
   },
   "outputs": [],
   "source": []
  },
  {
   "cell_type": "code",
   "execution_count": null,
   "metadata": {
    "collapsed": true
   },
   "outputs": [],
   "source": []
  },
  {
   "cell_type": "code",
   "execution_count": null,
   "metadata": {
    "collapsed": true
   },
   "outputs": [],
   "source": []
  },
  {
   "cell_type": "code",
   "execution_count": null,
   "metadata": {
    "collapsed": true
   },
   "outputs": [],
   "source": []
  },
  {
   "cell_type": "code",
   "execution_count": null,
   "metadata": {
    "collapsed": true
   },
   "outputs": [],
   "source": []
  },
  {
   "cell_type": "code",
   "execution_count": 858,
   "metadata": {
    "collapsed": false
   },
   "outputs": [
    {
     "name": "stdout",
     "output_type": "stream",
     "text": [
      "8 7\n"
     ]
    }
   ],
   "source": [
    "#groupA = ['allopatric Acol']\n",
    "#groupB = ['mostly allopatric Agam']\n",
    "#groupB = ['allopatric Agam', 'mostly allopatric Agam']\n",
    "groupA = ['sympatric Acol']\n",
    "groupB = ['sympatric Agam']\n",
    "groupA_idxs = sampleIdxsByGroups(df_meta, *groupA)\n",
    "groupB_idxs = sampleIdxsByGroups(df_meta, *groupB)\n",
    "print(len(groupA_idxs), len(groupB_idxs))\n",
    "acA = g.take(groupA_idxs, axis=1).count_alleles()\n",
    "acB = g.take(groupB_idxs, axis=1).count_alleles()\n",
    "afA = acA.to_frequencies()\n",
    "afB = acB.to_frequencies()"
   ]
  },
  {
   "cell_type": "code",
   "execution_count": 859,
   "metadata": {
    "collapsed": false
   },
   "outputs": [
    {
     "name": "stdout",
     "output_type": "stream",
     "text": [
      "1353 out of 3924049 (0.03447969176735561%)\n"
     ]
    }
   ],
   "source": [
    "fltA = np.logical_and(afA[:,0] > 0.5, afB[:,0] == 0)\n",
    "fltB = np.logical_and(afA[:,1] > 0.5, afB[:,1] == 0)\n",
    "flt = np.logical_or(fltA, fltB)\n",
    "print(np.count_nonzero(flt),'out of',flt.shape[0], '('+str(100*np.count_nonzero(flt)/flt.shape[0])+'%)')"
   ]
  },
  {
   "cell_type": "code",
   "execution_count": 860,
   "metadata": {
    "collapsed": false
   },
   "outputs": [
    {
     "data": {
      "text/plain": [
       "[<matplotlib.lines.Line2D at 0x7fce40ee77f0>]"
      ]
     },
     "execution_count": 860,
     "metadata": {},
     "output_type": "execute_result"
    },
    {
     "data": {
      "image/png": "[encoded data removed]",
      "text/plain": [
       "<matplotlib.figure.Figure at 0x7fce40f1ca90>"
      ]
     },
     "metadata": {},
     "output_type": "display_data"
    }
   ],
   "source": [
    "jitter = np.random.uniform(low=.5, high=1.5, size=flt.shape)\n",
    "plt.plot(pos, flt*jitter, '.', alpha=0.5)"
   ]
  },
  {
   "cell_type": "code",
   "execution_count": 861,
   "metadata": {
    "collapsed": false
   },
   "outputs": [
    {
     "data": {
      "text/plain": [
       "<matplotlib.axes.AxesSubplot at 0x7fce40efabe0>"
      ]
     },
     "execution_count": 861,
     "metadata": {},
     "output_type": "execute_result"
    },
    {
     "data": {
      "image/png": "[encoded data removed]",
      "text/plain": [
       "<matplotlib.figure.Figure at 0x7fce4107fdd8>"
      ]
     },
     "metadata": {},
     "output_type": "display_data"
    }
   ],
   "source": [
    "sns.kdeplot(pos.compress(flt,axis=0), bw=0.005)"
   ]
  },
  {
   "cell_type": "code",
   "execution_count": null,
   "metadata": {
    "collapsed": false
   },
   "outputs": [],
   "source": []
  },
  {
   "cell_type": "code",
   "execution_count": null,
   "metadata": {
    "collapsed": true
   },
   "outputs": [],
   "source": []
  },
  {
   "cell_type": "code",
   "execution_count": 976,
   "metadata": {
    "collapsed": false
   },
   "outputs": [
    {
     "name": "stdout",
     "output_type": "stream",
     "text": [
      "7 5\n"
     ]
    }
   ],
   "source": [
    "groupA = ['allopatric Acol']\n",
    "groupB = ['mostly allopatric Agam']\n",
    "#groupB = ['allopatric Agam', 'mostly allopatric Agam']\n",
    "#groupA = ['sympatric Acol']\n",
    "#groupB = ['sympatric Agam']\n",
    "groupA_idxs = sampleIdxsByGroups(df_meta, *groupA)\n",
    "groupB_idxs = sampleIdxsByGroups(df_meta, *groupB)\n",
    "print(len(groupA_idxs), len(groupB_idxs))\n",
    "acA = g.take(groupA_idxs, axis=1).count_alleles()\n",
    "acB = g.take(groupB_idxs, axis=1).count_alleles()\n",
    "afA = acA.to_frequencies()\n",
    "afB = acB.to_frequencies()"
   ]
  },
  {
   "cell_type": "code",
   "execution_count": 1076,
   "metadata": {
    "collapsed": false
   },
   "outputs": [
    {
     "name": "stdout",
     "output_type": "stream",
     "text": [
      "2791 out of 3924049 (0.059%)\n"
     ]
    }
   ],
   "source": [
    "fltA = np.logical_and(afA == 1, afB == 0)\n",
    "fltB = np.logical_and(afA == 0, afB == 1)\n",
    "#flt = np.logical_or(fltA, fltB)\n",
    "print(np.count_nonzero(fltA.sum(axis=1)),'out of',flt.shape[0], \n",
    "      '({:.3f}%)'.format(100*np.count_nonzero(flt)/flt.shape[0]))"
   ]
  },
  {
   "cell_type": "code",
   "execution_count": null,
   "metadata": {
    "collapsed": false
   },
   "outputs": [],
   "source": []
  },
  {
   "cell_type": "code",
   "execution_count": 1100,
   "metadata": {
    "collapsed": false
   },
   "outputs": [
    {
     "name": "stdout",
     "output_type": "stream",
     "text": [
      "18\n"
     ]
    }
   ],
   "source": [
    "#groupC = ['sympatric Acol']\n",
    "#groupC = ['sympatric Agam']\n",
    "#groupC = ['backcross Acol - early']\n",
    "groupC = ['backcross Acol - late']\n",
    "groupC_idxs = sampleIdxsByGroups(df_meta, *groupC)\n",
    "print(len(groupC_idxs))\n",
    "acC = g.take(groupC_idxs, axis=1).count_alleles()\n",
    "afC = acC.to_frequencies()"
   ]
  },
  {
   "cell_type": "code",
   "execution_count": 1101,
   "metadata": {
    "collapsed": false
   },
   "outputs": [
    {
     "data": {
      "image/png": "[encoded data removed]",
      "text/plain": [
       "<matplotlib.figure.Figure at 0x7fce1f3d1208>"
      ]
     },
     "metadata": {},
     "output_type": "display_data"
    }
   ],
   "source": [
    "# filter out loci which fail both fltA and fltB (less pts to plot)\n",
    "flt = np.logical_or(fltA.sum(axis=1) > 0, fltB.sum(axis=1) > 0)\n",
    "posf = pos.compress(flt, axis=0)\n",
    "affC = afC.compress(flt, axis=0)\n",
    "fltfA = fltA.compress(flt, axis=0)\n",
    "fltfB = fltB.compress(flt, axis=0)\n",
    "\n",
    "fooA = (affC * fltfA).sum(axis=1)\n",
    "fooB = (affC * fltfB).sum(axis=1)\n",
    "\n",
    "fig = plt.figure(figsize=(10,8))\n",
    "ax = fig.add_subplot(1,1,1)\n",
    "\n",
    "ax.plot(posf/1e6, fooA, \n",
    "        'r.', alpha=0.5, clip_on=False,\n",
    "        label=' & '.join(groupA)+' allele')\n",
    "ax.plot(posf/1e6, fooB,\n",
    "        'b.', alpha=0.5, clip_on=False,\n",
    "        label=' & '.join(groupB)+' allele')\n",
    "\n",
    "ax.set_xlabel(chrom+' position [Mb]')\n",
    "ax.set_ylabel('allele frequency')\n",
    "ax.set_title(' & '.join(groupC))\n",
    "lgd = ax.legend(loc='upper left', bbox_to_anchor=(1, 1))\n",
    "\n",
    "plt.savefig('2L_fixed_allele_freq '+' & '.join(groupC)+'.svg', bbox_extra_artists=(lgd,), bbox_inches='tight')"
   ]
  },
  {
   "cell_type": "code",
   "execution_count": 1035,
   "metadata": {
    "collapsed": false
   },
   "outputs": [
    {
     "data": {
      "text/plain": [
       "array([ 0.71428571,  0.75      ,  0.75      , ...,  0.8125    ,\n",
       "        0.8125    ,  0.64285714])"
      ]
     },
     "execution_count": 1035,
     "metadata": {},
     "output_type": "execute_result"
    }
   ],
   "source": [
    "afC[np.nonzero(afC*fltA)]"
   ]
  },
  {
   "cell_type": "code",
   "execution_count": 1036,
   "metadata": {
    "collapsed": false
   },
   "outputs": [
    {
     "data": {
      "text/plain": [
       "array([ 0.28571429,  0.25      ,  0.25      , ...,  0.1875    ,\n",
       "        0.1875    ,  0.35714286])"
      ]
     },
     "execution_count": 1036,
     "metadata": {},
     "output_type": "execute_result"
    }
   ],
   "source": [
    "afC[np.nonzero(afC*fltB)]"
   ]
  },
  {
   "cell_type": "code",
   "execution_count": 1042,
   "metadata": {
    "collapsed": false
   },
   "outputs": [
    {
     "data": {
      "text/plain": [
       "0.7142857142857143"
      ]
     },
     "execution_count": 1042,
     "metadata": {},
     "output_type": "execute_result"
    }
   ],
   "source": [
    "(afC*fltA).sum(axis=1)[29]"
   ]
  },
  {
   "cell_type": "code",
   "execution_count": null,
   "metadata": {
    "collapsed": true
   },
   "outputs": [],
   "source": []
  },
  {
   "cell_type": "code",
   "execution_count": 1,
   "metadata": {
    "collapsed": false
   },
   "outputs": [
    {
     "ename": "NameError",
     "evalue": "name 'sns' is not defined",
     "output_type": "error",
     "traceback": [
      "\u001b[1;31m---------------------------------------------------------------------------\u001b[0m",
      "\u001b[1;31mNameError\u001b[0m                                 Traceback (most recent call last)",
      "\u001b[1;32m<ipython-input-1-cde652c6c5e0>\u001b[0m in \u001b[0;36m<module>\u001b[1;34m()\u001b[0m\n\u001b[1;32m----> 1\u001b[1;33m \u001b[0msns\u001b[0m\u001b[1;33m.\u001b[0m\u001b[0mkdeplot\u001b[0m\u001b[1;33m(\u001b[0m\u001b[0mpos\u001b[0m\u001b[1;33m.\u001b[0m\u001b[0mcompress\u001b[0m\u001b[1;33m(\u001b[0m\u001b[0mflt\u001b[0m\u001b[1;33m,\u001b[0m\u001b[0maxis\u001b[0m\u001b[1;33m=\u001b[0m\u001b[1;36m0\u001b[0m\u001b[1;33m)\u001b[0m\u001b[1;33m,\u001b[0m \u001b[0mbw\u001b[0m\u001b[1;33m=\u001b[0m\u001b[1;36m0.005\u001b[0m\u001b[1;33m)\u001b[0m\u001b[1;33m\u001b[0m\u001b[0m\n\u001b[0m",
      "\u001b[1;31mNameError\u001b[0m: name 'sns' is not defined"
     ]
    }
   ],
   "source": [
    "sns.kdeplot(pos.compress(flt,axis=0), bw=0.005)"
   ]
  },
  {
   "cell_type": "code",
   "execution_count": null,
   "metadata": {
    "collapsed": true
   },
   "outputs": [],
   "source": []
  },
  {
   "cell_type": "code",
   "execution_count": null,
   "metadata": {
    "collapsed": true
   },
   "outputs": [],
   "source": []
  },
  {
   "cell_type": "code",
   "execution_count": 773,
   "metadata": {
    "collapsed": false
   },
   "outputs": [
    {
     "data": {
      "text/plain": [
       "array([ 0.6       ,  0.5       ,  0.5       ,  0.625     ,  0.91666667,\n",
       "        0.5       ,  0.5       ,  0.75      ,  0.54166667,  0.5       ,\n",
       "        0.54166667,  0.75      ,  0.54166667,  0.54166667,  0.75      ,\n",
       "        0.75      ,  0.5       ,  0.75      ,  0.70833333,  0.55      ,\n",
       "        0.70833333,  0.5       ,  0.65      ,  0.5       ,  0.625     ,\n",
       "        0.5       ,  0.6875    ,  0.6       ,  0.5       ,  1.        ,\n",
       "        0.75      ,  0.5       ,  0.75      ,  0.66666667,  0.5       ,\n",
       "        0.75      ,  1.        ,  0.5       ,  0.5       ,  1.        ,\n",
       "        0.5       ,  0.5625    ,  0.5       ,  0.54166667,  0.5       ,\n",
       "        0.5       ,  0.625     ,  0.5       ,  0.7       ,  0.5       ,\n",
       "        0.5       ,  0.65      ,  0.5       ,  0.625     ,  0.5       ,\n",
       "        0.75      ,  0.5       ,  0.5       ,  0.65833333,  0.58333333,\n",
       "        0.8       ,  0.575     ,  0.5       ,  0.5       ,  0.5       ,\n",
       "        0.5       ,  0.5       ,  0.54166667,  0.54166667,  0.65      ,\n",
       "        0.95833333,  0.54166667,  0.5       ,  0.70833333,  0.70833333,\n",
       "        0.54166667,  0.5       ,  0.5       ,  0.95833333,  0.96428571,\n",
       "        0.96428571,  0.96428571,  0.53571429,  1.        ,  0.5       ,\n",
       "        0.75      ,  0.54166667,  0.65      ,  0.6       ,  0.5       ,\n",
       "        0.6       ,  0.53571429,  0.61428571,  0.75      ,  0.6       ,\n",
       "        0.71428571,  0.7       ,  0.5       ,  0.7       ,  0.70833333])"
      ]
     },
     "execution_count": 773,
     "metadata": {},
     "output_type": "execute_result"
    }
   ],
   "source": [
    "np.maximum(afA[0:100,:], afB[0:100,:]).sum(axis=1)/2.0"
   ]
  },
  {
   "cell_type": "code",
   "execution_count": null,
   "metadata": {
    "collapsed": false
   },
   "outputs": [],
   "source": []
  },
  {
   "cell_type": "code",
   "execution_count": null,
   "metadata": {
    "collapsed": false
   },
   "outputs": [],
   "source": []
  },
  {
   "cell_type": "code",
   "execution_count": null,
   "metadata": {
    "collapsed": true
   },
   "outputs": [],
   "source": []
  },
  {
   "cell_type": "code",
   "execution_count": null,
   "metadata": {
    "collapsed": true
   },
   "outputs": [],
   "source": []
  }
 ],
 "metadata": {
  "kernelspec": {
   "display_name": "Python 3",
   "language": "python",
   "name": "python3"
  },
  "language_info": {
   "codemirror_mode": {
    "name": "ipython",
    "version": 3
   },
   "file_extension": ".py",
   "mimetype": "text/x-python",
   "name": "python",
   "nbconvert_exporter": "python",
   "pygments_lexer": "ipython3",
   "version": "3.4.3"
  }
 },
 "nbformat": 4,
 "nbformat_minor": 0
}
