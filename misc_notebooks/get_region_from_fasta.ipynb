{
 "cells": [
  {
   "cell_type": "code",
   "execution_count": 1,
   "metadata": {
    "collapsed": true
   },
   "outputs": [],
   "source": [
    "import sys\n",
    "import os\n",
    "import subprocess\n",
    "import pyfaidx\n",
    "from pprint import pprint"
   ]
  },
  {
   "cell_type": "code",
   "execution_count": 53,
   "metadata": {
    "collapsed": false
   },
   "outputs": [],
   "source": [
    "def print_fasta_region(faidx_obj, chrom, pos, pad, strand='+'):\n",
    "    #print(faidx_object[chrom][pos])\n",
    "    s = faidx_obj[chrom][pos-pad-1:pos+pad]\n",
    "    if strand == '-':\n",
    "        s = s.complement.reverse\n",
    "    print(str(s[0:pad]), end='')\n",
    "    print(\"\\x1b[41m{}\\x1b[0m\".format(s[pad]), end='')\n",
    "    print(str(s[pad+1:2*pad+1]), end='\\n')\n",
    "    \n",
    "def print_alignment(faidx_obj1, chrom1, pos1, strand1, \n",
    "                    faidx_obj2, chrom2, pos2, strand2,\n",
    "                    pad):\n",
    "    s1 = faidx_obj1[chrom1][pos1-pad-1:pos1+pad]\n",
    "    if strand1 == '-':\n",
    "        s1 = s1.complement.reverse\n",
    "    s2 = faidx_obj2[chrom2][pos2-pad-1:pos2+pad]\n",
    "    if strand2 == '-':\n",
    "        s2 = s2.complement.reverse\n",
    "    str1 = ''\n",
    "    str2 = ''\n",
    "    for i in range(len(s1)):\n",
    "        if str(s1[i]).upper() == str(s2[i]).upper():\n",
    "            if i == pad:\n",
    "                str1 += \"\\x1b[42m{}\\x1b[0m\".format(s1[i])\n",
    "                str2 += \"\\x1b[42m{}\\x1b[0m\".format(s2[i])\n",
    "            else:\n",
    "                str1 += str(s1[i])\n",
    "                str2 += str(s2[i])\n",
    "        else:\n",
    "            if i == pad:\n",
    "                str1 += \"\\x1b[41m{}\\x1b[0m\".format(s1[i])\n",
    "                str2 += \"\\x1b[41m{}\\x1b[0m\".format(s2[i])\n",
    "            else:\n",
    "                str1 += \"\\x1b[43m{}\\x1b[0m\".format(s1[i])\n",
    "                str2 += \"\\x1b[43m{}\\x1b[0m\".format(s2[i])\n",
    "    \n",
    "    print(str1)\n",
    "    print(str2)\n",
    "    \n",
    "    #print(str(s1[0:pad]), end='')\n",
    "    #print(\"\\x1b[41m{}\\x1b[0m\".format(s1[pad]), end='')\n",
    "    #print(str(s1[pad+1:2*pad+1]), end='\\n')\n",
    "    #print(str(s2[0:pad]), end='')\n",
    "    #print(\"\\x1b[41m{}\\x1b[0m\".format(s2[pad]), end='')\n",
    "    #print(str(s2[pad+1:2*pad+1]), end='\\n')\n",
    "    "
   ]
  },
  {
   "cell_type": "code",
   "execution_count": 42,
   "metadata": {
    "collapsed": false
   },
   "outputs": [],
   "source": [
    "def run_blast(query_seq, database, echo=True):\n",
    "    cols = ['qid', 'chrom', 'identity', 'alignment length', 'mismatches', 'gap openings', \n",
    "            'q start', 'q end', 'start', 'end', 'e-value', 'bit score']\n",
    "    blast_output = subprocess.check_output(\"echo {} | blastall -p blastn -d {} -m 8\".\n",
    "                                 format(str(query_seq), database), shell=True)\n",
    "    blast_output = blast_output.decode('utf-8')\n",
    "    if echo:\n",
    "        print('#','\\t'.join(cols))\n",
    "        print(blast_output)\n",
    "    blast_results = []\n",
    "    for line in blast_output.split('\\n'):\n",
    "        fields = line.split('\\t')\n",
    "        blast_results.append(dict(zip(cols,fields)))\n",
    "    #pprint(blast_results)\n",
    "    return blast_results"
   ]
  },
  {
   "cell_type": "code",
   "execution_count": 61,
   "metadata": {
    "collapsed": false
   },
   "outputs": [],
   "source": [
    "# CONSTANTS\n",
    "ref_fasta_filename = '/data/archive/reference/Anopheles-gambiae-PEST_CHROMOSOMES_AgamP4.fa'\n",
    "fasta_filename = '/data/archive/reference/Aara_Sharakhov_assem/AaraCHR+AgamP4-Mt.fa'\n",
    "\n",
    "chrom = '3R'\n",
    "pos = 33490452\n",
    "pad = 40"
   ]
  },
  {
   "cell_type": "code",
   "execution_count": 62,
   "metadata": {
    "collapsed": false
   },
   "outputs": [],
   "source": [
    "# get the sequences from the first fasta\n",
    "ref_fasta = pyfaidx.Fasta(ref_fasta_filename)\n",
    "s = ref_fasta[chrom][pos-pad-1:pos+pad]\n",
    "#s1 = ref_fasta[chrom][pos-pad-1:pos]\n",
    "#s2 = ref_fasta[chrom][pos-1:pos+pad]\n",
    "#print(s1,s2)"
   ]
  },
  {
   "cell_type": "code",
   "execution_count": 63,
   "metadata": {
    "collapsed": false
   },
   "outputs": [
    {
     "name": "stdout",
     "output_type": "stream",
     "text": [
      "# qid\tchrom\tidentity\talignment length\tmismatches\tgap openings\tq start\tq end\tstart\tend\te-value\tbit score\n",
      "1_0\t3R\t100.00\t77\t0\t0\t5\t81\t33676303\t33676379\t1e-36\t 153\n",
      "1_0\t3R\t100.00\t16\t0\t0\t35\t50\t14747921\t14747906\t2.8\t32.2\n",
      "1_0\t3R\t100.00\t16\t0\t0\t33\t48\t24061486\t24061501\t2.8\t32.2\n",
      "1_0\tX\t100.00\t18\t0\t0\t61\t78\t13550546\t13550563\t0.18\t36.2\n",
      "1_0\t3L\t100.00\t16\t0\t0\t57\t72\t13375842\t13375857\t2.8\t32.2\n",
      "1_0\t2R\t100.00\t16\t0\t0\t64\t79\t5628225\t5628210\t2.8\t32.2\n",
      "1_0\t2R\t100.00\t16\t0\t0\t37\t52\t5823287\t5823272\t2.8\t32.2\n",
      "1_0\t2L\t100.00\t16\t0\t0\t54\t69\t23869933\t23869918\t2.8\t32.2\n",
      "1_0\t2L\t100.00\t16\t0\t0\t54\t69\t39223591\t39223606\t2.8\t32.2\n",
      "\n"
     ]
    }
   ],
   "source": [
    "blast_results = run_blast(s, fasta_filename)\n",
    "#blast_results = run_blast(s1, fasta_filename)\n",
    "#blast_results = run_blast(s2, fasta_filename)\n"
   ]
  },
  {
   "cell_type": "code",
   "execution_count": 64,
   "metadata": {
    "collapsed": false
   },
   "outputs": [
    {
     "name": "stdout",
     "output_type": "stream",
     "text": [
      "3R 33490452 + ref\n",
      "CCATCAGCGGGGGCTTTTGCTCCTCACTCGACATTTCTCC\u001b[41mA\u001b[0mTCCTCCAGCTTACGCATCCGGTACGGATCGGTCGGGAAGG\n",
      "CAGCGGGGGCTTTTGCTCCTCACTCGACATTTCTCCATCC\u001b[41mT\u001b[0mCCAGCTTACGCATCCGGTACGGATCGGTCGGGAAGGCAAC\n",
      "3R 33676343 + target\n"
     ]
    }
   ],
   "source": [
    "# go ahead and load the target fasta file\n",
    "fasta = pyfaidx.Fasta(fasta_filename)\n",
    "# get the aligned region\n",
    "hit = blast_results[0]\n",
    "if hit['start'] > hit['end']: # reverse strand?\n",
    "    hit_pos = int(hit['end'])+pad\n",
    "    hit_strand = '-'\n",
    "else:\n",
    "    hit_pos = int(hit['start'])+pad\n",
    "    hit_strand = '+'\n",
    "\n",
    "#hit_pos = hit_pos-4\n",
    "\n",
    "print(chrom, pos, '+ ref')\n",
    "print_fasta_region(ref_fasta, chrom, pos, pad, strand='+')\n",
    "print_fasta_region(fasta, hit['chrom'], hit_pos, pad, strand=hit_strand)\n",
    "print(hit['chrom'], hit_pos, hit_strand, 'target')\n"
   ]
  },
  {
   "cell_type": "code",
   "execution_count": null,
   "metadata": {
    "collapsed": true
   },
   "outputs": [],
   "source": []
  },
  {
   "cell_type": "code",
   "execution_count": 65,
   "metadata": {
    "collapsed": false
   },
   "outputs": [],
   "source": [
    "snps = [ # chrom, AgamP4_pos, AaraCHR_pos, Aara_strand\n",
    "    ['2R',\t20784963,\t25183147, '-'],\n",
    "    ['2R',\t21818783,\t24053815, '-'],\n",
    "    ['2R',\t23770295,\t21865803, '-'],\n",
    "    ['2R',\t24166682,\t21476204, '-'],\n",
    "    ['2R',\t25659187,\t19988535, '-'],\n",
    "    ['2R',\t26579153,\t19067932, '-'],\n",
    "    ['2R',\t27058257,\t27636451, '+'],\n",
    "    ['2R',\t27883925,\t28567430, '+'],\n",
    "    ['2R',\t28059359,\t28741353, '+'],\n",
    "    ['2R',\t28086876,\t28768819, '+'],\n",
    "    ['2R',\t28214042,\t28881077, '+'],\n",
    "    ['3R',\t13733466,\t13730287, '+'],\n",
    "    ['3R',\t16162001,\t16151295, '+'],\n",
    "    ['3R',\t17135374,\t17092340, '+'],\n",
    "    ['3R',\t22369522,\t22105101, '+'],\n",
    "    ['3R',\t28835529,\t28855318, '+'],\n",
    "    ['3R',\t31827339,\t32128616, '+'],\n",
    "    ['3R',\t33490452,\t33676339, '+'],\n",
    "    ['X',\t10111683,\t4755258, '-'],\n",
    "    ['X',\t206745,\t1747660, '-'],\n",
    "    ['2L',\t22679503,\t38222272, '-'],\n",
    "    ['2L',\t39898663,\t20805019, '-'],\n",
    "    ['2L',\t7457687,\t4166017, '+'],\n",
    "    ['2R',\t7280112,\t7158783, '+'],\n",
    "    ['3L',\t18356615,\t15240947, '+'],\n",
    "    ['3L',\t3093150,\t1156210, '+'],\n",
    "    ['3R',\t10063316,\t10078235, '+'],\n",
    "    ]"
   ]
  },
  {
   "cell_type": "code",
   "execution_count": 66,
   "metadata": {
    "collapsed": false
   },
   "outputs": [
    {
     "name": "stdout",
     "output_type": "stream",
     "text": [
      "##### 2R 20784963 25183147 -\n",
      "GCACCACGTTCAGCAGCGAGCAAAC\u001b[43mC\u001b[0mCTCCGACTGGAGGT\u001b[41mG\u001b[0mGAATTTCACCGAAACGAATACATTTCCCGAGGCAGACGGT\n",
      "GCACCACGTTCAGCAGCGAGCAAAC\u001b[43mG\u001b[0mCTCCGACTGGAGGT\u001b[41mA\u001b[0mGAATTTCACCGAAACGAATACATTTCCCGAGGCAGACGGT\n",
      "##### 2R 21818783 24053815 -\n",
      "TCAAGTCGCTGCATCTGACGCTGGC\u001b[43mC\u001b[0mTACCA\u001b[43mA\u001b[0mTTCCCGCC\u001b[41mC\u001b[0m\u001b[43mA\u001b[0mGTCAGTTTAATGCGCTGAAAGCGTTGGTGGAAAATTTGG\n",
      "TCAAGTCGCTGCATCTGACGCTGGC\u001b[43mT\u001b[0mTACCA\u001b[43mG\u001b[0mTTCCCGCC\u001b[41mG\u001b[0m\u001b[43mG\u001b[0mGTCAGTTTAATGCGCTGAAAGCGTTGGTGGAAAATTTGG\n",
      "##### 2R 23770295 21865803 -\n",
      "TCTTAAA\u001b[43mA\u001b[0mAGTCGCACCGCTTTCACATACTCGCTGTCCTC\u001b[42mG\u001b[0mTCGGGCGCACCTCCTTC\u001b[43mC\u001b[0mACCTCCATTTGCATCTCA\u001b[43mT\u001b[0mCCG\n",
      "TCTTAAA\u001b[43mC\u001b[0mAGTCGCACCGCTTTCACATACTCGCTGTCCTC\u001b[42mG\u001b[0mTCGGGCGCACCTCCTTC\u001b[43mA\u001b[0mACCTCCATTTGCATCTCA\u001b[43mC\u001b[0mCCG\n",
      "##### 2R 24166682 21476204 -\n",
      "CGGCGCGCAGCC\u001b[43mC\u001b[0mGGCCGCCGCCTTCGACGT\u001b[43mA\u001b[0mCCCGCAAT\u001b[42mG\u001b[0mCCGCCCAGCGTGCTCATGTCCCGCGCAAACCCGAACGAAA\n",
      "CGGCGCGCAGCC\u001b[43mG\u001b[0mGGCCGCCGCCTTCGACGT\u001b[43mC\u001b[0mCCCGCAAT\u001b[42mG\u001b[0mCCGCCCAGCGTGCTCATGTCCCGCGCAAACCCGAACGAAA\n",
      "##### 2R 25659187 19988535 -\n",
      "TCGCGGAAGCGGAAGA\u001b[43mA\u001b[0mAA\u001b[43mG\u001b[0mGTACTGCGCTTTGATTT\u001b[43mA\u001b[0mCC\u001b[42mC\u001b[0mGCCGGTTCGACCACGTTCGAGGATTCGTGCGTGGTGGAAG\n",
      "TCGCGGAAGCGGAAGA\u001b[43mG\u001b[0mAA\u001b[43mA\u001b[0mGTACTGCGCTTTGATTT\u001b[43mG\u001b[0mCC\u001b[42mC\u001b[0mGCCGGTTCGACCACGTTCGAGGATTCGTGCGTGGTGGAAG\n",
      "##### 2R 26579153 19067932 -\n",
      "CCTCGAACGCTTTCTG\u001b[43mC\u001b[0mGTGTCGTCCGAGTCGCGGGACGC\u001b[42mA\u001b[0mATCTGCGGCAGACGGCCCTCCTCCTGCAGCTGGCGCATGT\n",
      "CCTCGAACGCTTTCTG\u001b[43mG\u001b[0mGTGTCGTCCGAGTCGCGGGACGC\u001b[42mA\u001b[0mATCTGCGGCAGACGGCCCTCCTCCTGCAGCTGGCGCATGT\n",
      "##### 2R 27058257 27636451 +\n",
      "GCACGAAGTACCGGCGCTTTTTGGTGATGGATATTCTGCA\u001b[42mG\u001b[0mCTCATC\u001b[43mT\u001b[0mTGGTCGAGCCGGACAG\u001b[43mT\u001b[0mAAGCGGTTAGGGTGGG\n",
      "GCACGAAGTACCGGCGCTTTTTGGTGATGGATATTCTGCA\u001b[42mG\u001b[0mCTCATC\u001b[43mC\u001b[0mTGGTCGAGCCGGACAG\u001b[43mC\u001b[0mAAGCGGTTAGGGTGGG\n",
      "##### 2R 27883925 28567430 +\n",
      "AAACGAGCGCTCCAGCACCA\u001b[43mT\u001b[0mCGAGGATAACGACGGCCAC\u001b[41mA\u001b[0mCCAACGGCCCGAACTACTACGGTAAAAACATTCGAGCGTC\n",
      "AAACGAGCGCTCCAGCACCA\u001b[43mC\u001b[0mCGAGGATAACGACGGCCAC\u001b[41mG\u001b[0mCCAACGGCCCGAACTACTACGGTAAAAACATTCGAGCGTC\n",
      "##### 2R 28059359 28741353 +\n",
      "GCCTACGATACGCGAGTCACCGGCCGATCTTGACGCAAGG\u001b[42mC\u001b[0mTACAGCTGTCCGAGGGTGGCCGCTGGTCGATCGTAATCAA\n",
      "GCCTACGATACGCGAGTCACCGGCCGATCTTGACGCAAGG\u001b[42mC\u001b[0mTACAGCTGTCCGAGGGTGGCCGCTGGTCGATCGTAATCAA\n",
      "##### 2R 28086876 28768819 +\n",
      "GGTGCACGATGGTGTGGCACGGTTTAGGAGGGGCAGTGGC\u001b[41mA\u001b[0mGTAGTAGCGATAGTAGGACGAACTAGTTTAGGTAG\u001b[43mA\u001b[0mGCAA\n",
      "GGTGCACGATGGTGTGGCACGGTTTAGGAGGGGCAGTGGC\u001b[41mG\u001b[0mGTAGTAGCGATAGTAGGACGAACTAGTTTAGGTAG\u001b[43mG\u001b[0mGCAA\n",
      "##### 2R 28214042 28881077 +\n",
      "AATCGCTTGCC\u001b[43mG\u001b[0mACCGGATAAAGCACGAATCCGACGACAC\u001b[41mG\u001b[0mTGCAGCAGCATCAAGCGGGAAGAGAACGTGAAGGAGGAAG\n",
      "AATCGCTTGCC\u001b[43mA\u001b[0mACCGGATAAAGCACGAATCCGACGACAC\u001b[41mA\u001b[0mTGCAGCAGCATCAAGCGGGAAGAGAACGTGAAGGAGGAAG\n",
      "##### 3R 13733466 13730287 +\n",
      "TGTGCAAGCTGACGCTCGAACCGTGCCGGATACTGCACAA\u001b[42mT\u001b[0mACCAGCTTTTTTCCCGAGTTTCTCAAGTGCAACGAAACGC\n",
      "TGTGCAAGCTGACGCTCGAACCGTGCCGGATACTGCACAA\u001b[42mT\u001b[0mACCAGCTTTTTTCCCGAGTTTCTCAAGTGCAACGAAACGC\n",
      "##### 3R 16162001 16151295 +\n",
      "CCACCGACCGCTCACCCTTGCCACAGTGGCAGCTGTGCTG\u001b[42mG\u001b[0mACCTGCTCCGTGCACGTGTCGCAGCTCCCTGCGTGACACT\n",
      "CCACCGACCGCTCACCCTTGCCACAGTGGCAGCTGTGCTG\u001b[42mG\u001b[0mACCTGCTCCGTGCACGTGTCGCAGCTCCCTGCGTGACACT\n",
      "##### 3R 17135374 17092340 +\n",
      "CGAACTGATGCTCGTTCTTTTCTACCAGCCGAGTGTATTT\u001b[41mT\u001b[0mTTCACATTGGTGCC\u001b[43mA\u001b[0mGCCGTTAGCACGCACGTGAACAGAT\n",
      "CGAACTGATGCTCGTTCTTTTCTACCAGCCGAGTGTATTT\u001b[41mC\u001b[0mTTCACATTGGTGCC\u001b[43mG\u001b[0mGCCGTTAGCACGCACGTGAACAGAT\n",
      "##### 3R 22369522 22105101 +\n",
      "AGAT\u001b[43mG\u001b[0mGCCGTAAACACGCGGGAGCTTTTAAGGCACAGATG\u001b[41mT\u001b[0mAG\u001b[43mC\u001b[0mG\u001b[43mT\u001b[0mTCCGGCAAGCAGCAACGAATCGTTTAGGTTGTAAA\n",
      "AGAT\u001b[43mT\u001b[0mGCCGTAAACACGCGGGAGCTTTTAAGGCACAGATG\u001b[41mC\u001b[0mAG\u001b[43mA\u001b[0mG\u001b[43mA\u001b[0mTCCGGCAAGCAGCAACGAATCGTTTAGGTTGTAAA\n",
      "##### 3R 28835529 28855318 +\n",
      "CCTGCATCAACATCAACGAGTGTCCACGGTTCGGTCCACA\u001b[42mC\u001b[0mTACCACGAGCCCGC\u001b[43mC\u001b[0mAAATGG\u001b[43mA\u001b[0mCCGA\u001b[43mG\u001b[0m\u001b[43mG\u001b[0m\u001b[43mA\u001b[0m\u001b[43mG\u001b[0mTT\u001b[43mA\u001b[0m\u001b[43mT\u001b[0m\u001b[43mT\u001b[0m\u001b[43mG\u001b[0mAA\u001b[43mT\u001b[0mG\n",
      "cctgcatcaacatcaacgagtgtccacggttcggtccaca\u001b[42mc\u001b[0mtaccacgagcccgc\u001b[43ma\u001b[0maaatgg\u001b[43mt\u001b[0mccga\u001b[43mt\u001b[0m\u001b[43ma\u001b[0m\u001b[43mg\u001b[0m\u001b[43mc\u001b[0mtt\u001b[43mg\u001b[0m\u001b[43mc\u001b[0m\u001b[43mg\u001b[0m\u001b[43ma\u001b[0maa\u001b[43mc\u001b[0mg\n",
      "##### 3R 31827339 32128616 +\n",
      "GAGCATCGTCAAATTCGCCATCCTCTTCAATGACTGGATC\u001b[42mC\u001b[0mGTAGTGG\u001b[43mA\u001b[0mAGCGCCTTTGACAGCGGATTTCATATCCGGCG\n",
      "GAGCATCGTCAAATTCGCCATCCTCTTCAATGACTGGATC\u001b[42mC\u001b[0mGTAGTGG\u001b[43mG\u001b[0mAGCGCCTTTGACAGCGGATTTCATATCCGGCG\n",
      "##### 3R 33490452 33676339 +\n",
      "CCA\u001b[43mT\u001b[0mCAGCGGGGGCTTTTGCTCCTCACTCGACATTTCTCC\u001b[42mA\u001b[0mTCCTCCAGCTTACGCATCCGGTACGGATCGGTCGGGAAGG\n",
      "CCA\u001b[43mC\u001b[0mCAGCGGGGGCTTTTGCTCCTCACTCGACATTTCTCC\u001b[42mA\u001b[0mTCCTCCAGCTTACGCATCCGGTACGGATCGGTCGGGAAGG\n",
      "##### X 10111683 4755258 -\n",
      "TT\u001b[43mG\u001b[0mGGACGCGC\u001b[43mC\u001b[0mTGTG\u001b[43mC\u001b[0mAGCGTCGAAGCTGCCGCAGAGCC\u001b[41mT\u001b[0mCACTCACCTTGTAAAG\u001b[43mA\u001b[0mATGGTGCGGTTGGCGGTGGGCTC\n",
      "TT\u001b[43mA\u001b[0mGGACGCGC\u001b[43mT\u001b[0mTGTG\u001b[43mG\u001b[0mAGCGTCGAAGCTGCCGCAGAGCC\u001b[41mG\u001b[0mCACTCACCTTGTAAAG\u001b[43mG\u001b[0mATGGTGCGGTTGGCGGTGGGCTC\n",
      "##### X 206745 1747660 -\n",
      "ACCAAGCGCA\u001b[43mT\u001b[0mGTTTCCAGCAATGAAAGT\u001b[43mA\u001b[0mCTTCGTTC\u001b[43mT\u001b[0mC\u001b[42mT\u001b[0mTCAGACAGTGACCTGTTGTACTAT\u001b[43mT\u001b[0mTGCTGGAACCTACCA\n",
      "ACCAAGCGCA\u001b[43mC\u001b[0mGTTTCCAGCAATGAAAGT\u001b[43mC\u001b[0mCTTCGTTC\u001b[43mG\u001b[0mC\u001b[42mT\u001b[0mTCAGACAGTGACCTGTTGTACTAT\u001b[43mG\u001b[0mTGCTGGAACCTACCA\n",
      "##### 2L 22679503 38222272 -\n",
      "TGAAGTTTTACAGA\u001b[43mA\u001b[0mTGCGTGTCAAATAGCCAAACTGATG\u001b[42mT\u001b[0mGA\u001b[43mT\u001b[0mGGAAGATTGACTCAGATCTATCATTTTGTCCCCTTTT\n",
      "TGAAGTTTTACAGA\u001b[43mT\u001b[0mTGCGTGTCAAATAGCCAAACTGATG\u001b[42mT\u001b[0mGA\u001b[43mC\u001b[0mGGAAGATTGACTCAGATCTATCATTTTGTCCCCTTTT\n",
      "##### 2L 39898663 20805019 -\n",
      "CAAGGACTACGATCTGAACATTGCGACCAACTTCTTCGTG\u001b[42mG\u001b[0mACGACTTCATCGAGGTGATCAACAAGTATCAGCAGATCGC\n",
      "CAAGGACTACGATCTGAACATTGCGACCAACTTCTTCGTG\u001b[42mG\u001b[0mACGACTTCATCGAGGTGATCAACAAGTATCAGCAGATCGC\n",
      "##### 2L 7457687 4166017 +\n",
      "ATTCACCGTGGCGTGGTACACGAGCGGTGTA\u001b[43mC\u001b[0mCCAAAGTC\u001b[42mC\u001b[0mGGCAGCTCCACTGGCTTGATCGAGATGTGATGCTTGGCTG\n",
      "ATTCACCGTGGCGTGGTACACGAGCGGTGTA\u001b[43mT\u001b[0mCCAAAGTC\u001b[42mC\u001b[0mGGCAGCTCCACTGGCTTGATCGAGATGTGATGCTTGGCTG\n",
      "##### 2R 7280112 7158783 +\n",
      "AGAAGGAGAAGCCGGCAACCGTGCTGCTGAAAGCGCACAC\u001b[42mC\u001b[0mTCGCTGCTGATGGACGATCCGGCTTGCGCCAAGGACTATA\n",
      "AGAAGGAGAAGCCGGCAACCGTGCTGCTGAAAGCGCACAC\u001b[42mC\u001b[0mTCGCTGCTGATGGACGATCCGGCTTGCGCCAAGGACTATA\n",
      "##### 3L 18356615 15240947 +\n",
      "AGCTGTATCTGCACCGGAATGCGCTGGCATCGATCGG\u001b[43mG\u001b[0mAA\u001b[41mC\u001b[0mAGGTCGTTCTATTACCAGAAATCGCTCGAGGTGCTCACGA\n",
      "AGCTGTATCTGCACCGGAATGCGCTGGCATCGATCGG\u001b[43mA\u001b[0mAA\u001b[41mT\u001b[0mAGGTCGTTCTATTACCAGAAATCGCTCGAGGTGCTCACGA\n",
      "##### 3L 3093150 1156210 +\n",
      "ATAGCCTGAAACAAAGATCTCTTGTAGATGCATTCCAGAA\u001b[41mG\u001b[0mACAATACGAAAAGCCGAAGAGGTGCTGAACTTGGTGTATA\n",
      "ATAGCCTGAAACAAAGATCTCTTGTAGATGCATTCCAGAA\u001b[41mA\u001b[0mACAATACGAAAAGCCGAAGAGGTGCTGAACTTGGTGTATA\n",
      "##### 3R 10063316 10078235 +\n",
      "CGAACGCCGTCAGCCAGGTGCTGCCGCTCTTATCGTTCTC\u001b[42mA\u001b[0mCCGAACGCACTGAACGAACCGTCACGGTGCTTGTAGC\u001b[43mC\u001b[0mCA\n",
      "CGAACGCCGTCAGCCAGGTGCTGCCGCTCTTATCGTTCTC\u001b[42mA\u001b[0mCCGAACGCACTGAACGAACCGTCACGGTGCTTGTAGC\u001b[43mT\u001b[0mCA\n"
     ]
    }
   ],
   "source": [
    "ref_fasta_filename = '/data/archive/reference/Anopheles-gambiae-PEST_CHROMOSOMES_AgamP4.fa'\n",
    "fasta_filename = '/data/archive/reference/Aara_Sharakhov_assem/AaraCHR+AgamP4-Mt.fa'\n",
    "pad = 40\n",
    "\n",
    "ref_fasta = pyfaidx.Fasta(ref_fasta_filename)\n",
    "fasta = pyfaidx.Fasta(fasta_filename)\n",
    "\n",
    "for ch, agam_pos, aara_pos, aara_strand in snps:\n",
    "    print('#####', ch, agam_pos, aara_pos, aara_strand)\n",
    "    #print_fasta_region(ref_fasta, ch, agam_pos, pad, strand='+')\n",
    "    #print_fasta_region(fasta, ch, aara_pos, pad, strand=aara_strand)\n",
    "    print_alignment(ref_fasta, ch, agam_pos, '+', \n",
    "                    fasta, ch, aara_pos, aara_strand,\n",
    "                    pad)\n",
    "    "
   ]
  },
  {
   "cell_type": "code",
   "execution_count": null,
   "metadata": {
    "collapsed": true
   },
   "outputs": [],
   "source": []
  }
 ],
 "metadata": {
  "kernelspec": {
   "display_name": "Python 3",
   "language": "python",
   "name": "python3"
  },
  "language_info": {
   "codemirror_mode": {
    "name": "ipython",
    "version": 3
   },
   "file_extension": ".py",
   "mimetype": "text/x-python",
   "name": "python",
   "nbconvert_exporter": "python",
   "pygments_lexer": "ipython3",
   "version": "3.4.3"
  }
 },
 "nbformat": 4,
 "nbformat_minor": 0
}
